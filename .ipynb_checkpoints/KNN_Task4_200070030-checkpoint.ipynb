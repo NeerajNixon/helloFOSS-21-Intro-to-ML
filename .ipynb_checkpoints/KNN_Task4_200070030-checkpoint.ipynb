{
 "cells": [
  {
   "cell_type": "markdown",
   "metadata": {
    "id": "cPP7BfqFSgyH"
   },
   "source": [
    "# K-Nearest Neighbors Algorithm\n"
   ]
  },
  {
   "cell_type": "markdown",
   "metadata": {
    "id": "Zd0p7ZUpSgyL"
   },
   "source": [
    "![example 1.png](data:image/png;base64,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)In this Jupyter Notebook we will focus on $KNN-Algorithm$. KNN is a data classification algorithm that attempts to determine what group a data point is in by looking at the data points around it.\n",
    "\n",
    "An algorithm, looking at one point on a grid, trying to determine if a point is in group A or B, looks at the states of the points that are near it. The range is arbitrarily determined, but the point is to take a sample of the data. If the majority of the points are in group A, then it is likely that the data point in question will be A rather than B, and vice versa.\n",
    "<br>\n",
    "\n",
    "<img src=\"knn/example 1.png\"  height=\"30%\" width=\"30%\">\n"
   ]
  },
  {
   "cell_type": "markdown",
   "metadata": {
    "id": "TyGHDf4NSgyM"
   },
   "source": [
    "# Imports"
   ]
  },
  {
   "cell_type": "code",
   "execution_count": 101,
   "metadata": {
    "id": "iIEvA0xjSgyN"
   },
   "outputs": [],
   "source": [
    "import numpy as np\n",
    "import tqdm "
   ]
  },
  {
   "cell_type": "markdown",
   "metadata": {
    "id": "rc8ruF56SgyO"
   },
   "source": [
    "# How it works?\n",
    "\n",
    "We have some labeled data set $X-train$, and a new set $X$ that we want to classify based on previous classifications\n",
    "\n"
   ]
  },
  {
   "cell_type": "markdown",
   "metadata": {
    "id": "rGbvEXbvSgyO"
   },
   "source": [
    "## Seps"
   ]
  },
  {
   "cell_type": "markdown",
   "metadata": {
    "id": "B-nf9G4ZSgyP"
   },
   "source": [
    "### 1. Calculate distance to all neighbours\n",
    "### 2. Sort neightbours (based on closest distance)\n",
    "### 3. Count possibilities of each class for k nearest neighbours \n",
    "### 4. The class with highest possibilty is Your prediction"
   ]
  },
  {
   "cell_type": "markdown",
   "metadata": {
    "id": "LuWwKdFrSgyP"
   },
   "source": [
    "# 1. Calculate distance to all neighbours\n",
    "\n",
    "Depending on the problem You should use different type of count distance method.\n",
    "<br>\n",
    "For example we can use Euclidean distance. Euclidean distance is the \"ordinary\" straight-line distance between two points in D-Dimensional space\n",
    "\n",
    "#### Definiton\n",
    "$d(p, q) = d(q, p) = \\sqrt{(q_1 - p_1)^2 + (q_2 - p_2)^2 + \\dots + (q_D - p_D)^2} = \\sum_{d=1}^{D} (p_d - q_d)^2$\n",
    "\n",
    "#### Example\n",
    "Distance in $R^2$\n",
    "<img src=\"knn/euklidean_example.png\"  height=\"30%\" width=\"30%\">\n",
    "\n",
    "\n",
    "$p = (4,6)$\n",
    "<br>\n",
    "$q = (1,2)$\n",
    "<br>\n",
    "$d(p, q) = \\sqrt{(1-4)^2 + (2-6)^2} =\\sqrt{9 + 16} = \\sqrt{25} = 5 $\n",
    "\n"
   ]
  },
  {
   "cell_type": "markdown",
   "metadata": {
    "id": "vlvNZqiJSgyQ"
   },
   "source": [
    "## Code"
   ]
  },
  {
   "cell_type": "code",
   "execution_count": 16,
   "metadata": {
    "id": "EvmQi6nsSgyR"
   },
   "outputs": [],
   "source": [
    "def get_euclidean_distance(A_matrix, B_matrix):\n",
    "    \n",
    "    ## Use the distance formula for the matrices using numpy functions\n",
    "    ## C is the sum of the squares of the distances\n",
    "    C=[]\n",
    "    for i in A_matrix:\n",
    "        temp=[]\n",
    "        for j in B_matrix:\n",
    "            temp.append(np.sum((i-j)**2))\n",
    "        C.append(temp)\n",
    "\n",
    "    return np.sqrt(C)"
   ]
  },
  {
   "cell_type": "markdown",
   "metadata": {
    "id": "GABzTa_0SgyS"
   },
   "source": [
    "## Example Usage"
   ]
  },
  {
   "cell_type": "code",
   "execution_count": 3,
   "metadata": {
    "colab": {
     "base_uri": "https://localhost:8080/"
    },
    "id": "W6b8yBSoSgyS",
    "outputId": "91bd6889-b90d-408f-a5f7-8c6cf618223e"
   },
   "outputs": [
    {
     "name": "stdout",
     "output_type": "stream",
     "text": [
      "X: 2 Exaples in 3 Dimensional space\n",
      "X_train: 4 Exaples in 3 Dimensional space\n",
      "\n",
      "X:\n",
      "[[ 1  2  3]\n",
      " [-4  5 -6]]\n",
      "\n",
      "X_train\n",
      "[[ 0  0  0]\n",
      " [ 1  2  3]\n",
      " [ 4  5  6]\n",
      " [-4  4 -6]]\n"
     ]
    }
   ],
   "source": [
    "X = np.array([[1,2,3] , [-4,5,-6]])\n",
    "\n",
    "X_train = np.array([[0,0,0], [1,2,3], [4,5,6], [-4, 4, -6]])\n",
    "\n",
    "print(\"X: {} Exaples in {} Dimensional space\".format(*X.shape))\n",
    "print(\"X_train: {} Exaples in {} Dimensional space\".format(*X_train.shape))\n",
    "\n",
    "\n",
    "print()\n",
    "\n",
    "print(\"X:\")\n",
    "print(X)\n",
    "\n",
    "print()\n",
    "\n",
    "print(\"X_train\")\n",
    "print(X_train)\n"
   ]
  },
  {
   "cell_type": "code",
   "execution_count": 42,
   "metadata": {
    "id": "kB8IZcDpSgyT",
    "outputId": "0ff10c28-0e46-4f62-d18a-ad235246ad75"
   },
   "outputs": [
    {
     "name": "stdout",
     "output_type": "stream",
     "text": [
      "Distance Matrix shape: (2, 4)\n",
      "Distance between first example from X and first form X_train: 3.7416573867739413\n",
      "Distance between first example from X and second form X_train: 0.0\n",
      "[[ 3.74165739  0.          5.19615242 10.48808848]\n",
      " [ 8.77496439 10.72380529 14.4222051   1.        ]]\n"
     ]
    }
   ],
   "source": [
    "## Initialize the distance matrix using the get_euclidean_matrix\n",
    "\n",
    "distance=get_euclidean_distance(X,X_train)\n",
    "## Print Distance between first example from X and first form X_train\n",
    "print(\"Distance Matrix shape:\",distance.shape)\n",
    "print(\"Distance between first example from X and first form X_train:\",distance[0][0])\n",
    "print(\"Distance between first example from X and second form X_train:\",distance[0][1])\n",
    "\n",
    "print(distance)"
   ]
  },
  {
   "cell_type": "markdown",
   "metadata": {
    "id": "vbaJfBihSgyT"
   },
   "source": [
    "# 2. Sort neightbours\n",
    "\n",
    "In order to find best fitting class for our observations we need to find to which classes belong observation neightbours and then to sort classes based on the closest distance\n"
   ]
  },
  {
   "cell_type": "markdown",
   "metadata": {
    "id": "b1VLHUj2SgyU"
   },
   "source": [
    "## Code"
   ]
  },
  {
   "cell_type": "code",
   "execution_count": 56,
   "metadata": {
    "id": "na0G1o_ASgyU"
   },
   "outputs": [],
   "source": [
    "def get_sorted_train_labels(distance_matrix, y):\n",
    "    \"\"\"\n",
    "    Function sorts y labels, based on probabilities from distances matrix\n",
    "    Args:\n",
    "        distance_matrix (numpy.ndarray): Distance Matrix, between points from X and X_train, size: N1:N2\n",
    "        y (numpy.ndarray): vector of classes of X points, size: N1\n",
    "\n",
    "    Returns:\n",
    "        numpy.ndarray: labels matrix sorted according to distances to nearest neightours, size N1:N2 \n",
    "\n",
    "    \"\"\"\n",
    "    labels=[[0 for i in range(distance_matrix.shape[1])] for j in range(distance_matrix.shape[0])]\n",
    "    for i in range(distance_matrix.shape[0]):\n",
    "        temp=[]\n",
    "        for j in range(distance_matrix.shape[1]):\n",
    "            temp.append([distance_matrix[i][j],y[j]])\n",
    "        temp.sort()\n",
    "        for j in range(distance_matrix.shape[1]):\n",
    "            labels[i][j]=temp[j][1]\n",
    "    return np.array(labels)"
   ]
  },
  {
   "cell_type": "markdown",
   "metadata": {
    "id": "U0I8eltDSgyV"
   },
   "source": [
    "# 3. Count possibilities of each class for k nearest neighbours \n",
    "\n",
    "In order to find best class for our observation $x$ we need to calculate the probability of belonging to each class. In our case it is quite easy. We need just to count how many from k-nearest-neighbours of observation $x$ belong to each class and then devide it by k \n",
    "<br><br>\n",
    "$p(y=class \\space| x)  = \\frac{\\sum_{1}^{k}(1 \\space if \\space N_i = class, \\space else \\space 0) }{k}$ Where $N_i$ is $i$ nearest neightbour\n",
    "\n"
   ]
  },
  {
   "cell_type": "markdown",
   "metadata": {
    "id": "j0ZtOC38SgyV"
   },
   "source": [
    "## Code"
   ]
  },
  {
   "cell_type": "code",
   "execution_count": 55,
   "metadata": {
    "id": "y2aaG2GdSgyV"
   },
   "outputs": [],
   "source": [
    "def get_p_y_x_using_knn(y, k):\n",
    "    \"\"\"\n",
    "    The function determines the probability distribution p (y | x)\n",
    "    for each of the labels for objects from the X\n",
    "    using the KNN classification learned on the X_train\n",
    "\n",
    "    Args:\n",
    "        y (numpy.ndarray): Sorted matrix of N2 nearest neighbours labels, size N1:N2\n",
    "        k (int): number of nearest neighbours for KNN algorithm\n",
    "\n",
    "    Returns: numpy.ndarray: Matrix of probabilities for N1 points (from set X) of belonging to each class,\n",
    "    size N1:C (where C is number of classes)\n",
    "    \"\"\"\n",
    "\n",
    "    ## Write your code here\n",
    "    probabilities_matrix=[]\n",
    "    for i in y:\n",
    "        temp={}\n",
    "        for j in range(k):\n",
    "            if i[j] in temp.keys():\n",
    "                temp[i[j]]+=1/k\n",
    "            else:\n",
    "                temp[i[j]]=1/k\n",
    "        probabilities_matrix.append(temp)\n",
    "\n",
    "    return probabilities_matrix"
   ]
  },
  {
   "cell_type": "markdown",
   "metadata": {
    "id": "ThEbAnXISgyW"
   },
   "source": [
    "# 4. The class with highest possibilty is Your prediction"
   ]
  },
  {
   "cell_type": "markdown",
   "metadata": {
    "id": "_i7NTtN4SgyW"
   },
   "source": [
    "At the end we combine all previous steps to get prediction"
   ]
  },
  {
   "cell_type": "markdown",
   "metadata": {
    "id": "OzK6rY8mSgyW"
   },
   "source": [
    "## Code"
   ]
  },
  {
   "cell_type": "code",
   "execution_count": 84,
   "metadata": {
    "id": "DaYqr_i6SgyW"
   },
   "outputs": [],
   "source": [
    "def predict(X, X_train, y_train, k, distance_function):\n",
    "    \"\"\"\n",
    "    Function returns predictions for new set X based on labels of points from X_train\n",
    "    Args:\n",
    "        X (numpy.ndarray): set of observations (points) that we want to label\n",
    "        X_train (numpy.ndarray): set of lalabeld bservations (points)\n",
    "        y_train (numpy.ndarray): labels for X_train\n",
    "        k (int): number of nearest neighbours for KNN algorithm\n",
    "\n",
    "    Returns:\n",
    "        (numpy.ndarray): label predictions for points from set X\n",
    "    \"\"\"\n",
    "    ## Write your code here\n",
    "    distance_matrix=distance_function(X,X_train)\n",
    "    prob=get_p_y_x_using_knn(get_sorted_train_labels(distance_matrix, y_train), k)\n",
    "    \n",
    "    prediction=[]\n",
    "    for i in prob:\n",
    "        prediction.append(max(zip(i.values(), i.keys()))[1])\n",
    "    \n",
    "    return np.array(prediction)\n"
   ]
  },
  {
   "cell_type": "markdown",
   "metadata": {
    "id": "i9kzyASWSgyX"
   },
   "source": [
    "# Accuracy"
   ]
  },
  {
   "cell_type": "markdown",
   "metadata": {
    "id": "v8bNPTPZSgyX"
   },
   "source": [
    "To find how good our knn model works we should count accuracy"
   ]
  },
  {
   "cell_type": "markdown",
   "metadata": {
    "id": "dgFCnJ14SgyX"
   },
   "source": [
    "## Code"
   ]
  },
  {
   "cell_type": "code",
   "execution_count": 77,
   "metadata": {
    "id": "2ySpyThlSgyX"
   },
   "outputs": [],
   "source": [
    "def count_accuracy(prediction, y_true):\n",
    "    \"\"\"\n",
    "    Returns:\n",
    "        float: Predictions accuracy\n",
    "\n",
    "    \"\"\"\n",
    "    N1 = prediction.shape[0]\n",
    "    \n",
    "    ## Use np.sum to count the number of elements where predicted value == actual value and assign the count to the variable accuracy\n",
    "\n",
    "    accuracy=np.sum(prediction==y_true)/len(prediction)\n",
    "    \n",
    "    return accuracy"
   ]
  },
  {
   "cell_type": "markdown",
   "metadata": {
    "id": "b5g7YFY2SgyX"
   },
   "source": [
    "## Example usage"
   ]
  },
  {
   "cell_type": "code",
   "execution_count": 85,
   "metadata": {
    "id": "uLqCqmJNSgyY",
    "outputId": "37b92373-4f92-4455-fa01-2069a8f04eae"
   },
   "outputs": [
    {
     "name": "stdout",
     "output_type": "stream",
     "text": [
      "True classes:[[0 2]], accuracy 50.0%\n"
     ]
    }
   ],
   "source": [
    "y_true = np.array([[0, 2]])\n",
    "\n",
    "predicton = predict(X, X_train, [2,2,0,2], 3, get_euclidean_distance)\n",
    "\n",
    "\n",
    "print(\"True classes:{}, accuracy {}%\".format(y_true, count_accuracy(predicton, y_true)  * 100))"
   ]
  },
  {
   "cell_type": "markdown",
   "metadata": {
    "id": "--WUpIcxSgyY"
   },
   "source": [
    "# Find best k"
   ]
  },
  {
   "cell_type": "markdown",
   "metadata": {
    "id": "itkcD0DlSgyY"
   },
   "source": [
    "Best k parameter is that one for which we have highest accuracy"
   ]
  },
  {
   "cell_type": "markdown",
   "metadata": {
    "id": "7GYEUBnnSgyY"
   },
   "source": [
    "## Code"
   ]
  },
  {
   "cell_type": "code",
   "execution_count": 102,
   "metadata": {
    "id": "Q6OhNBOoSgyY"
   },
   "outputs": [
    {
     "name": "stderr",
     "output_type": "stream",
     "text": [
      "Exception ignored in: <function tqdm.__del__ at 0x10edcf430>\n",
      "Traceback (most recent call last):\n",
      "  File \"/Users/kalp_vyas/miniforge3/lib/python3.9/site-packages/tqdm/std.py\", line 1152, in __del__\n",
      "  File \"/Users/kalp_vyas/miniforge3/lib/python3.9/site-packages/tqdm/notebook.py\", line 283, in close\n",
      "AttributeError: 'tqdm_notebook' object has no attribute 'disp'\n"
     ]
    }
   ],
   "source": [
    "def select_knn_model(X_validation, y_validation, X_train, y_train, k_values, distance_function):\n",
    "    \"\"\"\n",
    "    Function returns k parameter that best fit Xval points\n",
    "    Args:\n",
    "        Xval (numpy.ndarray): set of Validation Data, size N1:D\n",
    "        Xtrain (numpy.ndarray): set of Training Data, size N2:D\n",
    "        yval (numpy.ndarray): set of labels for Validation data, size N1:1\n",
    "        ytrain (numpy.ndarray): set of labels for Training Data, size N2:1\n",
    "        k_values (list): list of int values of k parameter that should be checked\n",
    "\n",
    "    Returns:\n",
    "        int: k paprameter that best fit validation set\n",
    "    \"\"\"\n",
    "\n",
    "    accuracies = []\n",
    "\n",
    "    for k in tqdm.notebook.tqdm(k_values):\n",
    "        prediction = predict(X_validation, X_train, y_train, k, distance_function)\n",
    "\n",
    "        accuracy = count_accuracy(prediction, y_validation)\n",
    "        accuracies.append(accuracy)\n",
    "\n",
    "    best_k = k_values[accuracies.index(max(accuracies))]\n",
    "\n",
    "    return best_k, accuracies\n"
   ]
  },
  {
   "cell_type": "markdown",
   "metadata": {
    "id": "nGtIjD0WSgyY"
   },
   "source": [
    "# Real World Example - Iris Dataset"
   ]
  },
  {
   "cell_type": "markdown",
   "metadata": {
    "id": "-o6MHMtKSgyZ"
   },
   "source": [
    "\n",
    "<img src=\"knn/iris_example1.jpeg\"  height=\"60%\" width=\"60%\">\n",
    "\n",
    "\n",
    "This is perhaps the best known database to be found in the pattern recognition literature. The data set contains 3 classes of 50 instances each, where each class refers to a type of iris plant. One class is linearly separable from the other 2; the latter are NOT linearly separable from each other. \n",
    "\n",
    "Each example contains 4 attributes\n",
    "1. sepal length in cm \n",
    "2. sepal width in cm \n",
    "3. petal length in cm \n",
    "4. petal width in cm \n",
    "\n",
    "Predicted attribute: class of iris plant. \n",
    "\n",
    "<img src=\"knn/iris_example2.png\"  height=\"70%\" width=\"70%\">\n",
    "\n",
    "\n",
    "\n",
    "\n"
   ]
  },
  {
   "cell_type": "code",
   "execution_count": 87,
   "metadata": {
    "colab": {
     "base_uri": "https://localhost:8080/"
    },
    "id": "SY8oOngQSgyZ",
    "outputId": "084afbad-b82c-417f-f4b5-9dd4cfcc2a0f"
   },
   "outputs": [
    {
     "name": "stdout",
     "output_type": "stream",
     "text": [
      "Iris: 150 examples in 4 dimensional space\n",
      "First example in dataset :\n",
      " Speal lenght: 5.1cm \n",
      " Speal width: 3.5cm \n",
      " Petal length: 1.4cm \n",
      " Petal width: 0.2cm\n",
      "Avalible classes [0 1 2]\n"
     ]
    }
   ],
   "source": [
    "from sklearn import datasets\n",
    "import matplotlib.pyplot as plt\n",
    "\n",
    "iris = datasets.load_iris()\n",
    "\n",
    "iris_X = iris.data\n",
    "iris_y = iris.target\n",
    "\n",
    "print(\"Iris: {} examples in {} dimensional space\".format(*iris_X.shape))\n",
    "print(\"First example in dataset :\\n Speal lenght: {}cm \\n Speal width: {}cm \\n Petal length: {}cm \\n Petal width: {}cm\".format(*iris_X[0]))\n",
    "\n",
    "print(\"Avalible classes\", np.unique(iris_y))"
   ]
  },
  {
   "cell_type": "markdown",
   "metadata": {
    "id": "-IlKSX7hSgyZ"
   },
   "source": [
    "## Prepare Data\n",
    "\n",
    "In our data set we have 150 examples (50 examples of each class), we have to divide it into 3 datasets.\n",
    "1. Training data set, 90 examples. It will be used to find  k - nearest neightbours\n",
    "2. Validation data set, 30 examples. It will be used to find best k parameter, the one for which accuracy is highest\n",
    "3. Test data set, 30 examples. It will be used to check how good our model performs\n",
    "\n",
    "Data has to be shuffled (mixed in random order), because originally it is stored 50 examples of class 0, 50 of 1 and 50 of 2.\n"
   ]
  },
  {
   "cell_type": "code",
   "execution_count": 90,
   "metadata": {
    "colab": {
     "base_uri": "https://localhost:8080/"
    },
    "id": "RA1Q7kCPSgyZ",
    "outputId": "bc8099c4-6777-4363-c49b-584c3b3812dd"
   },
   "outputs": [],
   "source": [
    "from sklearn.utils import shuffle\n",
    "\n",
    "iris_X, iris_y = shuffle(iris_X, iris_y, random_state=134)\n",
    "\n",
    "\n",
    "test_size = 30\n",
    "validation_size = 30\n",
    "training_size = 90\n",
    "\n",
    "## Initialize X_test\n",
    "\n",
    "X_test=iris_X[:test_size]\n",
    "## Initialize X_validation \n",
    "X_validation=iris_X[test_size:test_size+validation_size]\n",
    "## Initialize X_train \n",
    "X_train=iris_X[test_size+validation_size:]\n",
    "\n",
    "## Initialize y_test\n",
    "y_test=iris_y[:test_size]\n",
    "## Initialize y_validation \n",
    "y_validation=iris_y[test_size:test_size+validation_size]\n",
    "## Initialize y_train \n",
    "y_train=iris_y[test_size+validation_size:]"
   ]
  },
  {
   "cell_type": "markdown",
   "metadata": {
    "id": "r9xJVLzrSgyZ"
   },
   "source": [
    "## Find best k parameter"
   ]
  },
  {
   "cell_type": "code",
   "execution_count": 104,
   "metadata": {
    "colab": {
     "referenced_widgets": [
      "d75bb342c95b4339b20286ed465e89e8"
     ]
    },
    "id": "hbvZBVNBSgya",
    "outputId": "e5665acc-9a29-4094-e5cf-d4d40c1f623f"
   },
   "outputs": [
    {
     "name": "stdout",
     "output_type": "stream",
     "text": [
      "Collecting ipywidgets\n",
      "  Downloading ipywidgets-7.6.5-py2.py3-none-any.whl (121 kB)\n",
      "\u001b[K     |████████████████████████████████| 121 kB 475 kB/s eta 0:00:01\n",
      "\u001b[?25hCollecting widgetsnbextension\n",
      "  Using cached widgetsnbextension-3.5.1-py2.py3-none-any.whl (2.2 MB)\n",
      "Collecting pandas-profiling\n",
      "  Downloading pandas_profiling-3.1.0-py2.py3-none-any.whl (261 kB)\n",
      "\u001b[K     |████████████████████████████████| 261 kB 4.5 MB/s eta 0:00:01\n",
      "\u001b[?25hRequirement already satisfied: nbformat>=4.2.0 in /Users/kalp_vyas/miniforge3/lib/python3.9/site-packages (from ipywidgets) (5.1.3)\n",
      "Requirement already satisfied: ipython>=4.0.0 in /Users/kalp_vyas/miniforge3/lib/python3.9/site-packages (from ipywidgets) (7.28.0)\n",
      "Requirement already satisfied: ipython-genutils~=0.2.0 in /Users/kalp_vyas/miniforge3/lib/python3.9/site-packages (from ipywidgets) (0.2.0)\n",
      "Requirement already satisfied: ipykernel>=4.5.1 in /Users/kalp_vyas/miniforge3/lib/python3.9/site-packages (from ipywidgets) (6.4.2)\n",
      "Requirement already satisfied: traitlets>=4.3.1 in /Users/kalp_vyas/miniforge3/lib/python3.9/site-packages (from ipywidgets) (5.1.0)\n",
      "Collecting jupyterlab-widgets>=1.0.0\n",
      "  Downloading jupyterlab_widgets-1.0.2-py3-none-any.whl (243 kB)\n",
      "\u001b[K     |████████████████████████████████| 243 kB 13.9 MB/s eta 0:00:01\n",
      "\u001b[?25hRequirement already satisfied: notebook>=4.4.1 in /Users/kalp_vyas/miniforge3/lib/python3.9/site-packages (from widgetsnbextension) (6.4.5)\n",
      "Requirement already satisfied: scipy>=1.4.1 in /Users/kalp_vyas/miniforge3/lib/python3.9/site-packages (from pandas-profiling) (1.7.0)\n",
      "Collecting visions[type_image_path]==0.7.4\n",
      "  Downloading visions-0.7.4-py3-none-any.whl (102 kB)\n",
      "\u001b[K     |████████████████████████████████| 102 kB 10.6 MB/s ta 0:00:01\n",
      "\u001b[?25hCollecting tangled-up-in-unicode==0.1.0\n",
      "  Downloading tangled_up_in_unicode-0.1.0-py3-none-any.whl (3.1 MB)\n",
      "\u001b[K     |████████████████████████████████| 3.1 MB 9.8 MB/s eta 0:00:01\n",
      "\u001b[?25hRequirement already satisfied: seaborn>=0.10.1 in /Users/kalp_vyas/miniforge3/lib/python3.9/site-packages (from pandas-profiling) (0.11.2)\n",
      "Collecting joblib~=1.0.1\n",
      "  Downloading joblib-1.0.1-py3-none-any.whl (303 kB)\n",
      "\u001b[K     |████████████████████████████████| 303 kB 62.5 MB/s eta 0:00:01\n",
      "\u001b[?25hRequirement already satisfied: jinja2>=2.11.1 in /Users/kalp_vyas/miniforge3/lib/python3.9/site-packages (from pandas-profiling) (3.0.2)\n",
      "Collecting phik>=0.11.1\n",
      "  Downloading phik-0.12.0.tar.gz (44 kB)\n",
      "\u001b[K     |████████████████████████████████| 44 kB 12.7 MB/s eta 0:00:01\n",
      "\u001b[?25h  Installing build dependencies ... \u001b[?25ldone\n",
      "\u001b[?25h  Getting requirements to build wheel ... \u001b[?25ldone\n",
      "\u001b[?25h    Preparing wheel metadata ... \u001b[?25ldone\n",
      "\u001b[?25hRequirement already satisfied: tqdm>=4.48.2 in /Users/kalp_vyas/miniforge3/lib/python3.9/site-packages (from pandas-profiling) (4.61.2)\n",
      "Collecting htmlmin>=0.1.12\n",
      "  Downloading htmlmin-0.1.12.tar.gz (19 kB)\n",
      "Requirement already satisfied: matplotlib>=3.2.0 in /Users/kalp_vyas/miniforge3/lib/python3.9/site-packages (from pandas-profiling) (3.4.2)\n",
      "Requirement already satisfied: PyYAML>=5.0.0 in /Users/kalp_vyas/miniforge3/lib/python3.9/site-packages (from pandas-profiling) (5.4.1)\n",
      "Collecting pydantic>=1.8.1\n",
      "  Downloading pydantic-1.8.2-py3-none-any.whl (126 kB)\n",
      "\u001b[K     |████████████████████████████████| 126 kB 14.8 MB/s eta 0:00:01\n",
      "\u001b[?25hCollecting multimethod>=1.4\n",
      "  Downloading multimethod-1.6-py3-none-any.whl (9.4 kB)\n",
      "Requirement already satisfied: pandas!=1.0.0,!=1.0.1,!=1.0.2,!=1.1.0,>=0.25.3 in /Users/kalp_vyas/miniforge3/lib/python3.9/site-packages (from pandas-profiling) (1.3.1)\n",
      "Collecting missingno>=0.4.2\n",
      "  Downloading missingno-0.5.0-py3-none-any.whl (8.8 kB)\n",
      "Requirement already satisfied: markupsafe~=2.0.1 in /Users/kalp_vyas/miniforge3/lib/python3.9/site-packages (from pandas-profiling) (2.0.1)\n",
      "Requirement already satisfied: requests>=2.24.0 in /Users/kalp_vyas/miniforge3/lib/python3.9/site-packages (from pandas-profiling) (2.26.0)\n",
      "Requirement already satisfied: numpy>=1.16.0 in /Users/kalp_vyas/miniforge3/lib/python3.9/site-packages (from pandas-profiling) (1.21.1)\n",
      "Requirement already satisfied: networkx>=2.4 in /Users/kalp_vyas/miniforge3/lib/python3.9/site-packages (from visions[type_image_path]==0.7.4->pandas-profiling) (2.6.2)\n",
      "Requirement already satisfied: attrs>=19.3.0 in /Users/kalp_vyas/miniforge3/lib/python3.9/site-packages (from visions[type_image_path]==0.7.4->pandas-profiling) (21.2.0)\n",
      "Requirement already satisfied: Pillow in /Users/kalp_vyas/miniforge3/lib/python3.9/site-packages (from visions[type_image_path]==0.7.4->pandas-profiling) (8.2.0)\n",
      "Collecting imagehash\n",
      "  Downloading ImageHash-4.2.1.tar.gz (812 kB)\n",
      "\u001b[K     |████████████████████████████████| 812 kB 78.2 MB/s eta 0:00:01\n",
      "\u001b[?25hRequirement already satisfied: appnope in /Users/kalp_vyas/miniforge3/lib/python3.9/site-packages (from ipykernel>=4.5.1->ipywidgets) (0.1.2)\n",
      "Requirement already satisfied: jupyter-client<8.0 in /Users/kalp_vyas/miniforge3/lib/python3.9/site-packages (from ipykernel>=4.5.1->ipywidgets) (7.0.6)\n",
      "Requirement already satisfied: matplotlib-inline<0.2.0,>=0.1.0 in /Users/kalp_vyas/miniforge3/lib/python3.9/site-packages (from ipykernel>=4.5.1->ipywidgets) (0.1.3)\n",
      "Requirement already satisfied: tornado<7.0,>=4.2 in /Users/kalp_vyas/miniforge3/lib/python3.9/site-packages (from ipykernel>=4.5.1->ipywidgets) (6.1)\n",
      "Requirement already satisfied: debugpy<2.0,>=1.0.0 in /Users/kalp_vyas/miniforge3/lib/python3.9/site-packages (from ipykernel>=4.5.1->ipywidgets) (1.5.1)\n",
      "Requirement already satisfied: setuptools>=18.5 in /Users/kalp_vyas/miniforge3/lib/python3.9/site-packages (from ipython>=4.0.0->ipywidgets) (58.2.0)\n",
      "Requirement already satisfied: pexpect>4.3 in /Users/kalp_vyas/miniforge3/lib/python3.9/site-packages (from ipython>=4.0.0->ipywidgets) (4.8.0)\n",
      "Requirement already satisfied: pickleshare in /Users/kalp_vyas/miniforge3/lib/python3.9/site-packages (from ipython>=4.0.0->ipywidgets) (0.7.5)\n",
      "Requirement already satisfied: prompt-toolkit!=3.0.0,!=3.0.1,<3.1.0,>=2.0.0 in /Users/kalp_vyas/miniforge3/lib/python3.9/site-packages (from ipython>=4.0.0->ipywidgets) (3.0.20)\n",
      "Requirement already satisfied: pygments in /Users/kalp_vyas/miniforge3/lib/python3.9/site-packages (from ipython>=4.0.0->ipywidgets) (2.10.0)\n",
      "Requirement already satisfied: backcall in /Users/kalp_vyas/miniforge3/lib/python3.9/site-packages (from ipython>=4.0.0->ipywidgets) (0.2.0)\n",
      "Requirement already satisfied: jedi>=0.16 in /Users/kalp_vyas/miniforge3/lib/python3.9/site-packages (from ipython>=4.0.0->ipywidgets) (0.18.0)\n",
      "Requirement already satisfied: decorator in /Users/kalp_vyas/miniforge3/lib/python3.9/site-packages (from ipython>=4.0.0->ipywidgets) (5.0.9)\n",
      "Requirement already satisfied: parso<0.9.0,>=0.8.0 in /Users/kalp_vyas/miniforge3/lib/python3.9/site-packages (from jedi>=0.16->ipython>=4.0.0->ipywidgets) (0.8.2)\n",
      "Requirement already satisfied: python-dateutil>=2.1 in /Users/kalp_vyas/miniforge3/lib/python3.9/site-packages (from jupyter-client<8.0->ipykernel>=4.5.1->ipywidgets) (2.8.2)\n",
      "Requirement already satisfied: entrypoints in /Users/kalp_vyas/miniforge3/lib/python3.9/site-packages (from jupyter-client<8.0->ipykernel>=4.5.1->ipywidgets) (0.3)\n",
      "Requirement already satisfied: nest-asyncio>=1.5 in /Users/kalp_vyas/miniforge3/lib/python3.9/site-packages (from jupyter-client<8.0->ipykernel>=4.5.1->ipywidgets) (1.5.1)\n",
      "Requirement already satisfied: pyzmq>=13 in /Users/kalp_vyas/miniforge3/lib/python3.9/site-packages (from jupyter-client<8.0->ipykernel>=4.5.1->ipywidgets) (22.3.0)\n",
      "Requirement already satisfied: jupyter-core>=4.6.0 in /Users/kalp_vyas/miniforge3/lib/python3.9/site-packages (from jupyter-client<8.0->ipykernel>=4.5.1->ipywidgets) (4.8.1)\n",
      "Requirement already satisfied: kiwisolver>=1.0.1 in /Users/kalp_vyas/miniforge3/lib/python3.9/site-packages (from matplotlib>=3.2.0->pandas-profiling) (1.3.1)\n",
      "Requirement already satisfied: pyparsing>=2.2.1 in /Users/kalp_vyas/miniforge3/lib/python3.9/site-packages (from matplotlib>=3.2.0->pandas-profiling) (2.4.7)\n",
      "Requirement already satisfied: cycler>=0.10 in /Users/kalp_vyas/miniforge3/lib/python3.9/site-packages (from matplotlib>=3.2.0->pandas-profiling) (0.10.0)\n",
      "Requirement already satisfied: six in /Users/kalp_vyas/miniforge3/lib/python3.9/site-packages (from cycler>=0.10->matplotlib>=3.2.0->pandas-profiling) (1.15.0)\n",
      "Requirement already satisfied: jsonschema!=2.5.0,>=2.4 in /Users/kalp_vyas/miniforge3/lib/python3.9/site-packages (from nbformat>=4.2.0->ipywidgets) (4.1.1)\n",
      "Requirement already satisfied: pyrsistent!=0.17.0,!=0.17.1,!=0.17.2,>=0.14.0 in /Users/kalp_vyas/miniforge3/lib/python3.9/site-packages (from jsonschema!=2.5.0,>=2.4->nbformat>=4.2.0->ipywidgets) (0.18.0)\n"
     ]
    },
    {
     "name": "stdout",
     "output_type": "stream",
     "text": [
      "Requirement already satisfied: Send2Trash>=1.5.0 in /Users/kalp_vyas/miniforge3/lib/python3.9/site-packages (from notebook>=4.4.1->widgetsnbextension) (1.8.0)\n",
      "Requirement already satisfied: terminado>=0.8.3 in /Users/kalp_vyas/miniforge3/lib/python3.9/site-packages (from notebook>=4.4.1->widgetsnbextension) (0.12.1)\n",
      "Requirement already satisfied: prometheus-client in /Users/kalp_vyas/miniforge3/lib/python3.9/site-packages (from notebook>=4.4.1->widgetsnbextension) (0.11.0)\n",
      "Requirement already satisfied: nbconvert in /Users/kalp_vyas/miniforge3/lib/python3.9/site-packages (from notebook>=4.4.1->widgetsnbextension) (6.2.0)\n",
      "Requirement already satisfied: argon2-cffi in /Users/kalp_vyas/miniforge3/lib/python3.9/site-packages (from notebook>=4.4.1->widgetsnbextension) (21.1.0)\n",
      "Requirement already satisfied: pytz>=2017.3 in /Users/kalp_vyas/miniforge3/lib/python3.9/site-packages (from pandas!=1.0.0,!=1.0.1,!=1.0.2,!=1.1.0,>=0.25.3->pandas-profiling) (2021.1)\n",
      "Requirement already satisfied: ptyprocess>=0.5 in /Users/kalp_vyas/miniforge3/lib/python3.9/site-packages (from pexpect>4.3->ipython>=4.0.0->ipywidgets) (0.7.0)\n",
      "Requirement already satisfied: wcwidth in /Users/kalp_vyas/miniforge3/lib/python3.9/site-packages (from prompt-toolkit!=3.0.0,!=3.0.1,<3.1.0,>=2.0.0->ipython>=4.0.0->ipywidgets) (0.2.5)\n",
      "Requirement already satisfied: typing-extensions>=3.7.4.3 in /Users/kalp_vyas/miniforge3/lib/python3.9/site-packages (from pydantic>=1.8.1->pandas-profiling) (3.7.4.3)\n",
      "Requirement already satisfied: urllib3<1.27,>=1.21.1 in /Users/kalp_vyas/miniforge3/lib/python3.9/site-packages (from requests>=2.24.0->pandas-profiling) (1.26.6)\n",
      "Requirement already satisfied: idna<4,>=2.5 in /Users/kalp_vyas/miniforge3/lib/python3.9/site-packages (from requests>=2.24.0->pandas-profiling) (3.1)\n",
      "Requirement already satisfied: charset-normalizer~=2.0.0 in /Users/kalp_vyas/miniforge3/lib/python3.9/site-packages (from requests>=2.24.0->pandas-profiling) (2.0.0)\n",
      "Requirement already satisfied: certifi>=2017.4.17 in /Users/kalp_vyas/miniforge3/lib/python3.9/site-packages (from requests>=2.24.0->pandas-profiling) (2021.10.8)\n",
      "Requirement already satisfied: cffi>=1.0.0 in /Users/kalp_vyas/miniforge3/lib/python3.9/site-packages (from argon2-cffi->notebook>=4.4.1->widgetsnbextension) (1.14.6)\n",
      "Requirement already satisfied: pycparser in /Users/kalp_vyas/miniforge3/lib/python3.9/site-packages (from cffi>=1.0.0->argon2-cffi->notebook>=4.4.1->widgetsnbextension) (2.20)\n",
      "Requirement already satisfied: PyWavelets in /Users/kalp_vyas/miniforge3/lib/python3.9/site-packages (from imagehash->visions[type_image_path]==0.7.4->pandas-profiling) (1.1.1)\n",
      "Requirement already satisfied: jupyterlab-pygments in /Users/kalp_vyas/miniforge3/lib/python3.9/site-packages (from nbconvert->notebook>=4.4.1->widgetsnbextension) (0.1.2)\n",
      "Requirement already satisfied: testpath in /Users/kalp_vyas/miniforge3/lib/python3.9/site-packages (from nbconvert->notebook>=4.4.1->widgetsnbextension) (0.5.0)\n",
      "Requirement already satisfied: bleach in /Users/kalp_vyas/miniforge3/lib/python3.9/site-packages (from nbconvert->notebook>=4.4.1->widgetsnbextension) (4.1.0)\n",
      "Requirement already satisfied: defusedxml in /Users/kalp_vyas/miniforge3/lib/python3.9/site-packages (from nbconvert->notebook>=4.4.1->widgetsnbextension) (0.7.1)\n",
      "Requirement already satisfied: nbclient<0.6.0,>=0.5.0 in /Users/kalp_vyas/miniforge3/lib/python3.9/site-packages (from nbconvert->notebook>=4.4.1->widgetsnbextension) (0.5.4)\n",
      "Requirement already satisfied: pandocfilters>=1.4.1 in /Users/kalp_vyas/miniforge3/lib/python3.9/site-packages (from nbconvert->notebook>=4.4.1->widgetsnbextension) (1.5.0)\n",
      "Requirement already satisfied: mistune<2,>=0.8.1 in /Users/kalp_vyas/miniforge3/lib/python3.9/site-packages (from nbconvert->notebook>=4.4.1->widgetsnbextension) (0.8.4)\n",
      "Requirement already satisfied: webencodings in /Users/kalp_vyas/miniforge3/lib/python3.9/site-packages (from bleach->nbconvert->notebook>=4.4.1->widgetsnbextension) (0.5.1)\n",
      "Requirement already satisfied: packaging in /Users/kalp_vyas/miniforge3/lib/python3.9/site-packages (from bleach->nbconvert->notebook>=4.4.1->widgetsnbextension) (21.0)\n",
      "Building wheels for collected packages: htmlmin, phik, imagehash\n",
      "  Building wheel for htmlmin (setup.py) ... \u001b[?25ldone\n",
      "\u001b[?25h  Created wheel for htmlmin: filename=htmlmin-0.1.12-py3-none-any.whl size=27098 sha256=653ef4022af34193c30f4504b3992a8344172a3195f91d3dfd2332f556c93d7f\n",
      "  Stored in directory: /Users/kalp_vyas/Library/Caches/pip/wheels/1d/05/04/c6d7d3b66539d9e659ac6dfe81e2d0fd4c1a8316cc5a403300\n",
      "  Building wheel for phik (PEP 517) ... \u001b[?25ldone\n",
      "\u001b[?25h  Created wheel for phik: filename=phik-0.12.0-cp39-cp39-macosx_11_0_arm64.whl size=91178 sha256=fcf3a6a6e991cd860b13655c2be51581504cf7ea44b5a947f49b80e7bf21cf50\n",
      "  Stored in directory: /Users/kalp_vyas/Library/Caches/pip/wheels/6f/87/55/46337c5c916c6910f8b070d88af7a9ed3446d4d2acb43fc601\n",
      "  Building wheel for imagehash (setup.py) ... \u001b[?25ldone\n",
      "\u001b[?25h  Created wheel for imagehash: filename=ImageHash-4.2.1-py2.py3-none-any.whl size=295206 sha256=1ba1db3b3052fad224c72dda98fb1632d5f2383023359cdb31b37a8819a1075e\n",
      "  Stored in directory: /Users/kalp_vyas/Library/Caches/pip/wheels/51/f9/a5/740af2fdb0ad1edf79aabdc41531be0b6f0b2e2be684c388cf\n",
      "Successfully built htmlmin phik imagehash\n",
      "Installing collected packages: tangled-up-in-unicode, multimethod, visions, joblib, imagehash, widgetsnbextension, pydantic, phik, missingno, jupyterlab-widgets, htmlmin, pandas-profiling, ipywidgets\n",
      "  Attempting uninstall: joblib\n",
      "    Found existing installation: joblib 1.1.0\n",
      "    Uninstalling joblib-1.1.0:\n",
      "      Successfully uninstalled joblib-1.1.0\n",
      "Successfully installed htmlmin-0.1.12 imagehash-4.2.1 ipywidgets-7.6.5 joblib-1.0.1 jupyterlab-widgets-1.0.2 missingno-0.5.0 multimethod-1.6 pandas-profiling-3.1.0 phik-0.12.0 pydantic-1.8.2 tangled-up-in-unicode-0.1.0 visions-0.7.4 widgetsnbextension-3.5.1\n",
      "Note: you may need to restart the kernel to use updated packages.\n"
     ]
    }
   ],
   "source": [
    "#k_values = [i for i in range(3,50)]\n",
    "\n",
    "#best_k, accuracies = select_knn_model(X_validation, y_validation, X_train, y_train, k_values, distance_function=get_euclidean_distance)\n",
    "%pip install ipywidgets widgetsnbextension pandas-profiling\n",
    "## Plot accuracy vs k values graph"
   ]
  },
  {
   "cell_type": "markdown",
   "metadata": {
    "id": "BjQBDWJMSgya"
   },
   "source": [
    "## Count accuracy for training set"
   ]
  },
  {
   "cell_type": "code",
   "execution_count": null,
   "metadata": {
    "id": "_f-J5sSESgya",
    "outputId": "26815b47-6cb0-4ee3-a72c-b6e3a71f023c"
   },
   "outputs": [
    {
     "name": "stdout",
     "output_type": "stream",
     "text": [
      "Accuracy for best k=14: 93.333333%\n"
     ]
    }
   ],
   "source": [
    "prediction = predict(X_test, X_train, y_train, best_k, get_euclidean_distance)\n",
    "\n",
    "## Calculate Best accuracy using the best k value\n"
   ]
  },
  {
   "cell_type": "markdown",
   "metadata": {
    "id": "72O5eXbCSgyc"
   },
   "source": [
    "# Sources\n",
    "\n",
    "https://en.wikipedia.org/wiki/K-nearest_neighbors_algorithm - first visualisation image\n",
    "\n",
    "https://en.wikipedia.org/wiki/Euclidean_distance - euclidean distance visualisation\n",
    "\n",
    "https://rajritvikblog.wordpress.com/2017/06/29/iris-dataset-analysis-python/ - first iris image\n",
    "\n",
    "https://rpubs.com/wjholst/322258 - second iris image\n",
    "\n"
   ]
  }
 ],
 "metadata": {
  "colab": {
   "name": "Knn.ipynb",
   "provenance": []
  },
  "kernelspec": {
   "display_name": "Python 3 (ipykernel)",
   "language": "python",
   "name": "python3"
  },
  "language_info": {
   "codemirror_mode": {
    "name": "ipython",
    "version": 3
   },
   "file_extension": ".py",
   "mimetype": "text/x-python",
   "name": "python",
   "nbconvert_exporter": "python",
   "pygments_lexer": "ipython3",
   "version": "3.9.6"
  }
 },
 "nbformat": 4,
 "nbformat_minor": 1
}
