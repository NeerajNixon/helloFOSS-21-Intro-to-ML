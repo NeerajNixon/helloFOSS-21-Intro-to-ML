{
 "cells": [
  {
   "cell_type": "markdown",
   "metadata": {
    "id": "7C5rAxwPGDQf"
   },
   "source": [
    "# Importing useful libraries"
   ]
  },
  {
   "cell_type": "code",
   "execution_count": 92,
   "metadata": {
    "id": "8qvrslgsF4Mn"
   },
   "outputs": [],
   "source": [
    "import numpy as np\n",
    "import pandas as pd \n",
    "from pandas import Series, DataFrame\n",
    "\n",
    "import seaborn as sns\n",
    "import matplotlib.pyplot as plt\n",
    "%matplotlib inline"
   ]
  },
  {
   "cell_type": "markdown",
   "metadata": {
    "id": "6aYOLI2BHF6m"
   },
   "source": [
    "## Loading the dataset.\n",
    "The dataset can be found [here](https://github.com/shreedharmalpani/Intro-To-ML-Hello-FOSS/blob/main/iris.csv)"
   ]
  },
  {
   "cell_type": "code",
   "execution_count": 93,
   "metadata": {
    "id": "_hccks2pF4Mq"
   },
   "outputs": [],
   "source": [
    "df = pd.read_csv(\"iris.csv\")"
   ]
  },
  {
   "cell_type": "code",
   "execution_count": 94,
   "metadata": {
    "id": "um0L09IOF4Ms"
   },
   "outputs": [
    {
     "data": {
      "text/html": [
       "<div>\n",
       "<style scoped>\n",
       "    .dataframe tbody tr th:only-of-type {\n",
       "        vertical-align: middle;\n",
       "    }\n",
       "\n",
       "    .dataframe tbody tr th {\n",
       "        vertical-align: top;\n",
       "    }\n",
       "\n",
       "    .dataframe thead th {\n",
       "        text-align: right;\n",
       "    }\n",
       "</style>\n",
       "<table border=\"1\" class=\"dataframe\">\n",
       "  <thead>\n",
       "    <tr style=\"text-align: right;\">\n",
       "      <th></th>\n",
       "      <th>sepal_length</th>\n",
       "      <th>sepal_width</th>\n",
       "      <th>petal_length</th>\n",
       "      <th>petal_width</th>\n",
       "      <th>species</th>\n",
       "    </tr>\n",
       "  </thead>\n",
       "  <tbody>\n",
       "    <tr>\n",
       "      <th>0</th>\n",
       "      <td>5.1</td>\n",
       "      <td>3.5</td>\n",
       "      <td>1.4</td>\n",
       "      <td>0.2</td>\n",
       "      <td>setosa</td>\n",
       "    </tr>\n",
       "    <tr>\n",
       "      <th>1</th>\n",
       "      <td>4.9</td>\n",
       "      <td>3.0</td>\n",
       "      <td>1.4</td>\n",
       "      <td>0.2</td>\n",
       "      <td>setosa</td>\n",
       "    </tr>\n",
       "    <tr>\n",
       "      <th>2</th>\n",
       "      <td>4.7</td>\n",
       "      <td>3.2</td>\n",
       "      <td>1.3</td>\n",
       "      <td>0.2</td>\n",
       "      <td>setosa</td>\n",
       "    </tr>\n",
       "    <tr>\n",
       "      <th>3</th>\n",
       "      <td>4.6</td>\n",
       "      <td>3.1</td>\n",
       "      <td>1.5</td>\n",
       "      <td>0.2</td>\n",
       "      <td>setosa</td>\n",
       "    </tr>\n",
       "    <tr>\n",
       "      <th>4</th>\n",
       "      <td>5.0</td>\n",
       "      <td>3.6</td>\n",
       "      <td>1.4</td>\n",
       "      <td>0.2</td>\n",
       "      <td>setosa</td>\n",
       "    </tr>\n",
       "  </tbody>\n",
       "</table>\n",
       "</div>"
      ],
      "text/plain": [
       "   sepal_length  sepal_width  petal_length  petal_width species\n",
       "0           5.1          3.5           1.4          0.2  setosa\n",
       "1           4.9          3.0           1.4          0.2  setosa\n",
       "2           4.7          3.2           1.3          0.2  setosa\n",
       "3           4.6          3.1           1.5          0.2  setosa\n",
       "4           5.0          3.6           1.4          0.2  setosa"
      ]
     },
     "execution_count": 94,
     "metadata": {},
     "output_type": "execute_result"
    }
   ],
   "source": [
    "df.head()"
   ]
  },
  {
   "cell_type": "code",
   "execution_count": 95,
   "metadata": {
    "id": "cbx8gP4zF4Mt"
   },
   "outputs": [
    {
     "name": "stdout",
     "output_type": "stream",
     "text": [
      "<class 'pandas.core.frame.DataFrame'>\n",
      "RangeIndex: 150 entries, 0 to 149\n",
      "Data columns (total 5 columns):\n",
      " #   Column        Non-Null Count  Dtype  \n",
      "---  ------        --------------  -----  \n",
      " 0   sepal_length  150 non-null    float64\n",
      " 1   sepal_width   150 non-null    float64\n",
      " 2   petal_length  150 non-null    float64\n",
      " 3   petal_width   150 non-null    float64\n",
      " 4   species       150 non-null    object \n",
      "dtypes: float64(4), object(1)\n",
      "memory usage: 6.0+ KB\n"
     ]
    }
   ],
   "source": [
    "df.info() "
   ]
  },
  {
   "cell_type": "markdown",
   "metadata": {
    "id": "vjH1pAqoJna2"
   },
   "source": [
    "# Data Cleaning & Data Visualization"
   ]
  },
  {
   "cell_type": "markdown",
   "metadata": {
    "id": "PNfSyZF1F4Mu"
   },
   "source": [
    "### 1) Remove unneeded columns\n",
    "### 2) Check for duplicate rows \n",
    "### 2) Check for rows with missing values\n"
   ]
  },
  {
   "cell_type": "code",
   "execution_count": 96,
   "metadata": {
    "id": "HKFsVhubF4Mx"
   },
   "outputs": [],
   "source": [
    "#code\n",
    "df.isna().sum() # No missing entry\n",
    "df = df.drop_duplicates(keep = 'first')\n",
    "df = df.reset_index(drop = True)\n",
    "# df.info()\n"
   ]
  },
  {
   "cell_type": "markdown",
   "metadata": {
    "id": "L1cnZS5XF4M2"
   },
   "source": [
    "### EDA (Exploratory Data Analysis) with Iris"
   ]
  },
  {
   "cell_type": "code",
   "execution_count": 97,
   "metadata": {
    "id": "DjsnhAraF4M7",
    "outputId": "d8d58921-fa2f-4d75-c884-268986342894"
   },
   "outputs": [
    {
     "data": {
      "image/png": "[encoded data removed]",
      "text/plain": [
       "<Figure size 720x504 with 1 Axes>"
      ]
     },
     "metadata": {
      "needs_background": "light"
     },
     "output_type": "display_data"
    }
   ],
   "source": [
    "##Displaying a scatter plot to show the distribution of Sepal Length vs width the dataset\n",
    "\n",
    "fig = df[df.species == 'setosa'].plot(kind='scatter', x='petal_length', y='petal_width', color='orange', label='Setosa')\n",
    "df[df.species == 'versicolor'].plot(kind='scatter', x='petal_length', y='petal_width', color='blue', label='Versicolor', ax=fig)\n",
    "df[df.species == 'virginica'].plot(kind='scatter', x='petal_length', y='petal_width', color='green', label='Virginica', ax=fig)\n",
    "\n",
    "fig.set_xlabel('Petal Length')\n",
    "fig.set_ylabel('Petal Width')\n",
    "fig.set_title('Petal Length Vs Width')\n",
    "\n",
    "fig=plt.gcf()\n",
    "fig.set_size_inches(10, 7)\n",
    "plt.show()"
   ]
  },
  {
   "cell_type": "code",
   "execution_count": 98,
   "metadata": {
    "id": "O_eYByFvF4M5",
    "outputId": "b7404bc7-4879-482e-ca9d-8d9680a8f6a7"
   },
   "outputs": [
    {
     "data": {
      "image/png": "[encoded data removed]",
      "text/plain": [
       "<Figure size 720x504 with 1 Axes>"
      ]
     },
     "metadata": {
      "needs_background": "light"
     },
     "output_type": "display_data"
    }
   ],
   "source": [
    "#Display a scatter plot to show the distribution of Sepal Length vs width the dataset (Like previous Petal lenght vs width scatter plot)\n",
    "\n",
    "\n",
    "#code\n",
    "\n",
    "fig = df[df.species == 'setosa'].plot(kind='scatter', x='sepal_length', y='sepal_width', color='orange', label='Setosa')\n",
    "df[df.species == 'versicolor'].plot(kind='scatter', x='sepal_length', y='sepal_width', color='blue', label='Versicolor', ax=fig)\n",
    "df[df.species == 'virginica'].plot(kind='scatter', x='sepal_length', y='sepal_width', color='green', label='Virginica', ax=fig)\n",
    "\n",
    "\n",
    "fig.set_xlabel('Sepal Length')\n",
    "fig.set_ylabel('Sepal Width')\n",
    "fig.set_title('Sepal Length Vs Width')\n",
    "\n",
    "\n",
    "fig=plt.gcf()\n",
    "fig.set_size_inches(10, 7)\n",
    "plt.show()\n",
    "#example plot"
   ]
  },
  {
   "cell_type": "code",
   "execution_count": 99,
   "metadata": {
    "id": "EIh_yKQAF4M6",
    "outputId": "91706df0-4dd1-4a8b-92e7-41e04e6e602d"
   },
   "outputs": [
    {
     "data": {
      "text/plain": [
       "<seaborn.axisgrid.FacetGrid at 0x20180054970>"
      ]
     },
     "execution_count": 99,
     "metadata": {},
     "output_type": "execute_result"
    },
    {
     "data": {
      "image/png": "[encoded data removed]",
      "text/plain": [
       "<Figure size 300.75x216 with 1 Axes>"
      ]
     },
     "metadata": {
      "needs_background": "light"
     },
     "output_type": "display_data"
    },
    {
     "data": {
      "image/png": "[encoded data removed]",
      "text/plain": [
       "<Figure size 300.75x216 with 1 Axes>"
      ]
     },
     "metadata": {
      "needs_background": "light"
     },
     "output_type": "display_data"
    }
   ],
   "source": [
    "#plot the FacetGrid plot using the seaborn library\n",
    "g = sns.FacetGrid(df, hue='species') #sns.FacetGrid(...)\\ \n",
    "g.map_dataframe(sns.scatterplot, x=\"sepal_length\", y=\"sepal_width\") #.map(...)\\\n",
    "g.add_legend() #.add_legend()\n",
    "\n",
    "h = sns.FacetGrid(df, hue='species') #sns.FacetGrid(...)\\ \n",
    "h.map_dataframe(sns.scatterplot, x=\"petal_length\", y=\"petal_width\") #.map(...)\\\n",
    "h.add_legend() #.add_legend()\n"
   ]
  },
  {
   "cell_type": "code",
   "execution_count": 100,
   "metadata": {
    "id": "yadZQxoKF4M8",
    "outputId": "639d4b96-87a7-45d0-f358-ef061d08d230"
   },
   "outputs": [
    {
     "data": {
      "text/plain": [
       "array([<AxesSubplot:title={'center':'sepal_width'}>], dtype=object)"
      ]
     },
     "execution_count": 100,
     "metadata": {},
     "output_type": "execute_result"
    },
    {
     "data": {
      "image/png": "[encoded data removed]",
      "text/plain": [
       "<Figure size 432x288 with 2 Axes>"
      ]
     },
     "metadata": {
      "needs_background": "light"
     },
     "output_type": "display_data"
    },
    {
     "data": {
      "image/png": "[encoded data removed]",
      "text/plain": [
       "<Figure size 432x288 with 2 Axes>"
      ]
     },
     "metadata": {
      "needs_background": "light"
     },
     "output_type": "display_data"
    }
   ],
   "source": [
    "#Plot the distritbution of the features using histgram\n",
    "# g = sns.FacetGrid(df)\n",
    "# g.map_dataframe(sns.histplot, x=\"petal_length\")\n",
    "# g.map_dataframe(sns.histplot, x=\"petal_width\")\n",
    "# g.map_dataframe(sns.histplot, x=\"sepal_length\")\n",
    "# g.map_dataframe(sns.histplot, x=\"sepal_width\")\n",
    "fig1, axes1 = plt.subplots(1, 2)\n",
    "df1 = pd.DataFrame(data= df[\"petal_length\"])\n",
    "df2 = pd.DataFrame(data= df[\"sepal_length\"])\n",
    "fig2, axes2 = plt.subplots(1, 2)\n",
    "df3 = pd.DataFrame(data= df[\"petal_width\"])\n",
    "df4 = pd.DataFrame(data= df[\"sepal_width\"])\n",
    "\n",
    "df1.hist('petal_length', ax=axes1[0])\n",
    "df2.hist('sepal_length', ax=axes1[1])\n",
    "df3.hist('petal_width', ax=axes2[0])\n",
    "df4.hist('sepal_width', ax=axes2[1])"
   ]
  },
  {
   "cell_type": "markdown",
   "metadata": {
    "id": "xb-AFaG3PU0D"
   },
   "source": [
    "## Importing alll the necessary packages to use the various classification algorithms\n"
   ]
  },
  {
   "cell_type": "code",
   "execution_count": 101,
   "metadata": {
    "id": "cJVjbgAjF4M_"
   },
   "outputs": [],
   "source": [
    "from sklearn.linear_model import LogisticRegression # for Logistic Regression Algorithm\n",
    "from sklearn.model_selection import train_test_split # to split the dataset for training and testing \n",
    "from sklearn import svm # for suport vector machine algorithm\n",
    "from sklearn import metrics # for checking the model accuracy\n",
    "from sklearn.tree import DecisionTreeClassifier # for using DTA"
   ]
  },
  {
   "cell_type": "code",
   "execution_count": 102,
   "metadata": {
    "id": "8LizCSuWF4NA"
   },
   "outputs": [
    {
     "data": {
      "text/plain": [
       "(147, 5)"
      ]
     },
     "execution_count": 102,
     "metadata": {},
     "output_type": "execute_result"
    }
   ],
   "source": [
    "df.shape"
   ]
  },
  {
   "cell_type": "markdown",
   "metadata": {
    "id": "WW5Hp1fFF4NC"
   },
   "source": [
    "Now, when we train any algorithm, the number of features and their correlation plays an important role. If there are features and many of the features are highly correlated, then training an algorithm with all the featues will reduce the accuracy. Thus features selection should be done carefully. This dataset has less featues but still we will see the correlation.\n"
   ]
  },
  {
   "cell_type": "code",
   "execution_count": 103,
   "metadata": {
    "id": "YABeXMklF4ND",
    "outputId": "a212e140-712f-4e6f-f8f4-b6664bf29ff1"
   },
   "outputs": [
    {
     "data": {
      "image/png": "[encoded data removed]",
      "text/plain": [
       "<Figure size 576x288 with 2 Axes>"
      ]
     },
     "metadata": {
      "needs_background": "light"
     },
     "output_type": "display_data"
    }
   ],
   "source": [
    "plt.figure(figsize=(8,4))\n",
    "sns.heatmap(df.corr(), annot=True, cmap='cubehelix_r') # draws heatmap with input as correlation matrix calculated by df.corr() \n",
    "plt.show()"
   ]
  },
  {
   "cell_type": "markdown",
   "metadata": {
    "id": "gsd6QaoaF4NE"
   },
   "source": [
    "Observation--->\n",
    "The Sepal Width and Length are not correlated The Petal Width and Length are highly correlated\n",
    "We will use all the features for training the algorithm and check the accuracy.\n",
    "\n",
    "Then we will use 1 Petal Feature and 1 Sepal Feature to check the accuracy of the algorithm as we are using only 2 features that are not correlated. Thus we can have a variance in the dataset which may help in better accuracy. We will check it later.\n",
    "\n",
    "Steps To Be followed When Applying an Algorithm\n",
    "\n",
    "Split the dataset into training and testing dataset. The testing dataset is generally smaller than training one as it will help in training the model better.\n",
    "\n",
    "Select any algorithm based on the problem (classification or regression) whatever you feel may be good.\n",
    "Then pass the training dataset to the algorithm to train it. We use the .fit() method\n",
    "Then pass the testing data to the trained algorithm to predict the outcome. We use the .predict() method.\n",
    "We then check the accuracy by passing the predicted outcome and the actual output to the model."
   ]
  },
  {
   "cell_type": "markdown",
   "metadata": {
    "id": "QAD_cNirF4NF"
   },
   "source": [
    "# Splitting The Data into Training And Testing Dataset"
   ]
  },
  {
   "cell_type": "code",
   "execution_count": 104,
   "metadata": {
    "id": "ZqSRd9GzF4NF",
    "outputId": "9504d228-e1ff-4c00-a125-63dd9e0f7d67"
   },
   "outputs": [
    {
     "name": "stdout",
     "output_type": "stream",
     "text": [
      "(102, 5)\n",
      "(45, 5)\n"
     ]
    }
   ],
   "source": [
    "train, test = train_test_split(df, test_size=0.3) # our main data split into train and test\n",
    "# the attribute test_size=0.3 splits the data into 70% and 30% ratio. train=70% and test=30%\n",
    "print(train.shape)\n",
    "print(test.shape)"
   ]
  },
  {
   "cell_type": "code",
   "execution_count": 105,
   "metadata": {
    "id": "yO2J2FpjF4NG"
   },
   "outputs": [],
   "source": [
    "train_X = train[['sepal_length','sepal_width','petal_length','petal_width']] # taking the training data features\n",
    "train_y = train.species # output of the training data\n",
    "\n",
    "test_X = test[['sepal_length','sepal_width','petal_length','petal_length']] # taking test data feature\n",
    "test_y = test.species # output value of the test data"
   ]
  },
  {
   "cell_type": "code",
   "execution_count": 106,
   "metadata": {
    "id": "yR9D2qgQF4NG"
   },
   "outputs": [
    {
     "data": {
      "text/html": [
       "<div>\n",
       "<style scoped>\n",
       "    .dataframe tbody tr th:only-of-type {\n",
       "        vertical-align: middle;\n",
       "    }\n",
       "\n",
       "    .dataframe tbody tr th {\n",
       "        vertical-align: top;\n",
       "    }\n",
       "\n",
       "    .dataframe thead th {\n",
       "        text-align: right;\n",
       "    }\n",
       "</style>\n",
       "<table border=\"1\" class=\"dataframe\">\n",
       "  <thead>\n",
       "    <tr style=\"text-align: right;\">\n",
       "      <th></th>\n",
       "      <th>sepal_length</th>\n",
       "      <th>sepal_width</th>\n",
       "      <th>petal_length</th>\n",
       "      <th>petal_width</th>\n",
       "    </tr>\n",
       "  </thead>\n",
       "  <tbody>\n",
       "    <tr>\n",
       "      <th>125</th>\n",
       "      <td>6.1</td>\n",
       "      <td>3.0</td>\n",
       "      <td>4.9</td>\n",
       "      <td>1.8</td>\n",
       "    </tr>\n",
       "    <tr>\n",
       "      <th>47</th>\n",
       "      <td>5.0</td>\n",
       "      <td>3.3</td>\n",
       "      <td>1.4</td>\n",
       "      <td>0.2</td>\n",
       "    </tr>\n",
       "    <tr>\n",
       "      <th>15</th>\n",
       "      <td>5.7</td>\n",
       "      <td>4.4</td>\n",
       "      <td>1.5</td>\n",
       "      <td>0.4</td>\n",
       "    </tr>\n",
       "    <tr>\n",
       "      <th>52</th>\n",
       "      <td>6.5</td>\n",
       "      <td>2.8</td>\n",
       "      <td>4.6</td>\n",
       "      <td>1.5</td>\n",
       "    </tr>\n",
       "    <tr>\n",
       "      <th>90</th>\n",
       "      <td>5.8</td>\n",
       "      <td>2.6</td>\n",
       "      <td>4.0</td>\n",
       "      <td>1.2</td>\n",
       "    </tr>\n",
       "  </tbody>\n",
       "</table>\n",
       "</div>"
      ],
      "text/plain": [
       "     sepal_length  sepal_width  petal_length  petal_width\n",
       "125           6.1          3.0           4.9          1.8\n",
       "47            5.0          3.3           1.4          0.2\n",
       "15            5.7          4.4           1.5          0.4\n",
       "52            6.5          2.8           4.6          1.5\n",
       "90            5.8          2.6           4.0          1.2"
      ]
     },
     "execution_count": 106,
     "metadata": {},
     "output_type": "execute_result"
    }
   ],
   "source": [
    "train_X.head()"
   ]
  },
  {
   "cell_type": "code",
   "execution_count": 107,
   "metadata": {
    "id": "KcGbNGkcF4NH"
   },
   "outputs": [
    {
     "data": {
      "text/html": [
       "<div>\n",
       "<style scoped>\n",
       "    .dataframe tbody tr th:only-of-type {\n",
       "        vertical-align: middle;\n",
       "    }\n",
       "\n",
       "    .dataframe tbody tr th {\n",
       "        vertical-align: top;\n",
       "    }\n",
       "\n",
       "    .dataframe thead th {\n",
       "        text-align: right;\n",
       "    }\n",
       "</style>\n",
       "<table border=\"1\" class=\"dataframe\">\n",
       "  <thead>\n",
       "    <tr style=\"text-align: right;\">\n",
       "      <th></th>\n",
       "      <th>sepal_length</th>\n",
       "      <th>sepal_width</th>\n",
       "      <th>petal_length</th>\n",
       "      <th>petal_length</th>\n",
       "    </tr>\n",
       "  </thead>\n",
       "  <tbody>\n",
       "    <tr>\n",
       "      <th>114</th>\n",
       "      <td>6.5</td>\n",
       "      <td>3.0</td>\n",
       "      <td>5.5</td>\n",
       "      <td>5.5</td>\n",
       "    </tr>\n",
       "    <tr>\n",
       "      <th>98</th>\n",
       "      <td>6.3</td>\n",
       "      <td>3.3</td>\n",
       "      <td>6.0</td>\n",
       "      <td>6.0</td>\n",
       "    </tr>\n",
       "    <tr>\n",
       "      <th>1</th>\n",
       "      <td>4.9</td>\n",
       "      <td>3.0</td>\n",
       "      <td>1.4</td>\n",
       "      <td>1.4</td>\n",
       "    </tr>\n",
       "    <tr>\n",
       "      <th>142</th>\n",
       "      <td>6.7</td>\n",
       "      <td>3.0</td>\n",
       "      <td>5.2</td>\n",
       "      <td>5.2</td>\n",
       "    </tr>\n",
       "    <tr>\n",
       "      <th>36</th>\n",
       "      <td>4.4</td>\n",
       "      <td>3.0</td>\n",
       "      <td>1.3</td>\n",
       "      <td>1.3</td>\n",
       "    </tr>\n",
       "  </tbody>\n",
       "</table>\n",
       "</div>"
      ],
      "text/plain": [
       "     sepal_length  sepal_width  petal_length  petal_length\n",
       "114           6.5          3.0           5.5           5.5\n",
       "98            6.3          3.3           6.0           6.0\n",
       "1             4.9          3.0           1.4           1.4\n",
       "142           6.7          3.0           5.2           5.2\n",
       "36            4.4          3.0           1.3           1.3"
      ]
     },
     "execution_count": 107,
     "metadata": {},
     "output_type": "execute_result"
    }
   ],
   "source": [
    "test_X.head()"
   ]
  },
  {
   "cell_type": "code",
   "execution_count": 108,
   "metadata": {
    "id": "5sFmts-IF4NI"
   },
   "outputs": [
    {
     "data": {
      "text/plain": [
       "125     virginica\n",
       "47         setosa\n",
       "15         setosa\n",
       "52     versicolor\n",
       "90     versicolor\n",
       "Name: species, dtype: object"
      ]
     },
     "execution_count": 108,
     "metadata": {},
     "output_type": "execute_result"
    }
   ],
   "source": [
    "train_y.head()"
   ]
  },
  {
   "cell_type": "markdown",
   "metadata": {
    "id": "S_w4Me2bF4NL"
   },
   "source": [
    "## Logistic Regression "
   ]
  },
  {
   "cell_type": "code",
   "execution_count": 109,
   "metadata": {
    "id": "gOQ5JrqrF4NL"
   },
   "outputs": [
    {
     "name": "stdout",
     "output_type": "stream",
     "text": [
      "The accuracy of Logistic Regression is:  0.7333333333333333\n"
     ]
    }
   ],
   "source": [
    "model = LogisticRegression()\n",
    "model.fit(train_X, train_y)\n",
    "prediction = model.predict(test_X)\n",
    "print('The accuracy of Logistic Regression is: ', metrics.accuracy_score(prediction, test_y))"
   ]
  },
  {
   "cell_type": "markdown",
   "metadata": {
    "id": "e1NNX-EGF4NJ"
   },
   "source": [
    "## Support Vector Machine SVM"
   ]
  },
  {
   "cell_type": "code",
   "execution_count": 110,
   "metadata": {
    "id": "zSJmVzqnF4NK"
   },
   "outputs": [
    {
     "name": "stdout",
     "output_type": "stream",
     "text": [
      "The accuracy of Support Vector Machine is:  0.8\n"
     ]
    }
   ],
   "source": [
    "#implement using Support Vector Machine (SVM)\n",
    "model_SVM = svm.SVC(kernel='rbf')\n",
    "model_SVM.fit(train_X, train_y)\n",
    "prediction_SVM = model_SVM.predict(test_X)\n",
    "\n",
    "print('The accuracy of Support Vector Machine is: ', metrics.accuracy_score(prediction_SVM, test_y))"
   ]
  },
  {
   "cell_type": "markdown",
   "metadata": {
    "id": "GWfemKzPF4NN"
   },
   "source": [
    "## Decision Tree"
   ]
  },
  {
   "cell_type": "code",
   "execution_count": 111,
   "metadata": {
    "id": "iRXy3EZIF4NN",
    "outputId": "f470e075-fc92-4f3f-c343-7a8257e2c5d2"
   },
   "outputs": [
    {
     "name": "stdout",
     "output_type": "stream",
     "text": [
      "The accuracy of Decision Tree is:  0.4666666666666667\n"
     ]
    }
   ],
   "source": [
    "#implementing using Decision Tree\n",
    "model_DT = DecisionTreeClassifier(random_state=0)\n",
    "model_DT.fit(train_X, train_y)\n",
    "prediction_DT = model_DT.predict(test_X)\n",
    "\n",
    "\n",
    "print('The accuracy of Decision Tree is: ', metrics.accuracy_score(prediction_DT, test_y))"
   ]
  },
  {
   "cell_type": "markdown",
   "metadata": {
    "id": "uB2Co6f_F4NQ"
   },
   "source": [
    "### We used all the features of iris in above models. Now we will use Petals and Sepals Seperately"
   ]
  },
  {
   "cell_type": "markdown",
   "metadata": {
    "id": "1_v6cAZMF4NQ"
   },
   "source": [
    "### Creating Petals And Sepals Training Data"
   ]
  },
  {
   "cell_type": "code",
   "execution_count": 112,
   "metadata": {
    "id": "e1Q-1b9YF4NQ"
   },
   "outputs": [],
   "source": [
    "petal = df[['petal_length','petal_width','species']]\n",
    "sepal = df[['sepal_length','sepal_width','species']]"
   ]
  },
  {
   "cell_type": "markdown",
   "metadata": {
    "id": "Lv-nab5oF4NQ"
   },
   "source": [
    "### For Iris Petal"
   ]
  },
  {
   "cell_type": "code",
   "execution_count": 113,
   "metadata": {
    "id": "DuOqLUWZF4NQ"
   },
   "outputs": [],
   "source": [
    "train_p,test_p = train_test_split(petal, test_size=0.3, random_state=0) #petals\n",
    "train_x_p = train_p[['petal_width','petal_length']]  # taking the training data's Petal features\n",
    "train_y_p = train_p.species  # output of the  training data\n",
    "\n",
    "test_x_p = test_p[['petal_width','petal_length']]   # taking the test data's Petal features\n",
    "test_y_p = test_p.species    # output of the test data"
   ]
  },
  {
   "cell_type": "markdown",
   "metadata": {
    "id": "bgNB8kaNF4NU"
   },
   "source": [
    "### For Iris Sepal"
   ]
  },
  {
   "cell_type": "code",
   "execution_count": 114,
   "metadata": {
    "id": "6hVj5MW3F4NU"
   },
   "outputs": [],
   "source": [
    "#Similarly define the split for sepals\n",
    "#define the training and test data's Sepal features followed by the output of the training and test data\n",
    "\n",
    "#use naming- train_s,test_s ; train_x_s, train_y_s; test_x_s, test_y_s\n",
    "\n",
    "train_s,test_s = train_test_split(sepal, test_size=0.3, random_state=0) #sepals\n",
    "train_x_s = train_s[['sepal_width','sepal_length']]  # taking the training data's Sepal features\n",
    "train_y_s = train_s.species  # output of the  training data\n",
    "\n",
    "test_x_s = test_s[['sepal_width','sepal_length']]   # taking the test data's Sepal features\n",
    "test_y_s = test_s.species    # output of the test data"
   ]
  },
  {
   "cell_type": "markdown",
   "metadata": {
    "id": "y08e1O6aU9mx"
   },
   "source": [
    "Implementing the algorithms just like we did on the complete dataset but separately on sepals and petals and calculating accuracy"
   ]
  },
  {
   "cell_type": "markdown",
   "metadata": {
    "id": "TeMWnQr6F4NV"
   },
   "source": [
    "## SVM Algorithm"
   ]
  },
  {
   "cell_type": "code",
   "execution_count": 115,
   "metadata": {
    "id": "jhlutJ78F4NV"
   },
   "outputs": [
    {
     "name": "stdout",
     "output_type": "stream",
     "text": [
      "The accuracy of the SVM using Petals is: 1.0\n",
      "The accuracy of the SVM using Sepals is: 0.28888888888888886\n"
     ]
    }
   ],
   "source": [
    "model_SVM_p = svm.SVC(kernel='rbf')\n",
    "model_SVM_p.fit(train_x_p, train_y_p)\n",
    "prediction_SVM_p = model_SVM_p.predict(test_x_p)\n",
    "print('The accuracy of the SVM using Petals is:',metrics.accuracy_score(prediction_SVM_p,test_y_p))\n",
    "\n",
    "model_SVM_s = svm.SVC(kernel='rbf')\n",
    "model_SVM_s.fit(train_x_s, train_y_s)\n",
    "prediction_SVM_s = model_SVM_s.predict(test_x_s)\n",
    "print('The accuracy of the SVM using Sepals is:',metrics.accuracy_score(prediction_SVM_s,test_y_s))"
   ]
  },
  {
   "cell_type": "markdown",
   "metadata": {
    "id": "Mli7zcq_F4NV"
   },
   "source": [
    "## Logistic Regression"
   ]
  },
  {
   "cell_type": "code",
   "execution_count": 116,
   "metadata": {
    "id": "2DqK_dFCF4NV"
   },
   "outputs": [
    {
     "name": "stdout",
     "output_type": "stream",
     "text": [
      "The accuracy of the Logistic Regression using Petals is: 1.0\n",
      "The accuracy of the Logistic Regression using Sepals is: 0.7777777777777778\n"
     ]
    }
   ],
   "source": [
    "model_LR_p = LogisticRegression()\n",
    "model_LR_p.fit(train_x_p, train_y_p)\n",
    "prediction_LR_p = model_LR_p.predict(test_x_p)\n",
    "print('The accuracy of the Logistic Regression using Petals is:',metrics.accuracy_score(prediction_LR_p,test_y_p))\n",
    "\n",
    "model_LR_s = LogisticRegression()\n",
    "model_LR_s.fit(train_x_s, train_y_s)\n",
    "prediction_LR_s = model_LR_s.predict(test_x_s)\n",
    "print('The accuracy of the Logistic Regression using Sepals is:',metrics.accuracy_score(prediction_LR_s,test_y_s))"
   ]
  },
  {
   "cell_type": "markdown",
   "metadata": {
    "id": "aM-7Zx95F4NW"
   },
   "source": [
    "## Decision Tree"
   ]
  },
  {
   "cell_type": "code",
   "execution_count": 117,
   "metadata": {
    "id": "S8tXp-gMF4NW"
   },
   "outputs": [
    {
     "name": "stdout",
     "output_type": "stream",
     "text": [
      "The accuracy of the Decision Tree using Petals is: 0.9777777777777777\n",
      "The accuracy of the Decision Tree using Sepals is: 0.7111111111111111\n"
     ]
    }
   ],
   "source": [
    "model_DT_p = DecisionTreeClassifier(random_state=0)\n",
    "model_DT_p.fit(train_x_p, train_y_p)\n",
    "prediction_DT_p = model_DT_p.predict(test_x_p)\n",
    "print('The accuracy of the Decision Tree using Petals is:',metrics.accuracy_score(prediction_DT_p,test_y_p))\n",
    "\n",
    "model_DT_s = DecisionTreeClassifier(random_state=0)\n",
    "model_DT_s.fit(train_x_s, train_y_s)\n",
    "prediction_DT_s = model_DT_s.predict(test_x_s)\n",
    "print('The accuracy of the Decision Tree using Sepals is:',metrics.accuracy_score(prediction_DT_s,test_y_s))"
   ]
  },
  {
   "cell_type": "markdown",
   "metadata": {
    "id": "6ec0NUyJF4NW"
   },
   "source": [
    "\n",
    "\n",
    "\n",
    "### Question:\n",
    "Does Using Petals over Sepals for training the data give a much better accuracy? Why?\n"
   ]
  },
  {
   "cell_type": "markdown",
   "metadata": {},
   "source": [
    "<b> Yes, all petals machine learning models have given excellent accuracy to R sqaured rule. This can also be seen in the sepals and petals plot for different species </b>"
   ]
  }
 ],
 "metadata": {
  "colab": {
   "name": "Classification_Task3.ipynb",
   "provenance": []
  },
  "kernelspec": {
   "display_name": "Python 3",
   "language": "python",
   "name": "python3"
  },
  "language_info": {
   "codemirror_mode": {
    "name": "ipython",
    "version": 3
   },
   "file_extension": ".py",
   "mimetype": "text/x-python",
   "name": "python",
   "nbconvert_exporter": "python",
   "pygments_lexer": "ipython3",
   "version": "3.8.8"
  }
 },
 "nbformat": 4,
 "nbformat_minor": 1
}
