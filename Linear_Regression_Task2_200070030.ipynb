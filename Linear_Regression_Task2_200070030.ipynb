{
 "cells": [
  {
   "cell_type": "markdown",
   "id": "89223f98",
   "metadata": {},
   "source": [
    "### Importing useful libraries \n"
   ]
  },
  {
   "cell_type": "code",
   "execution_count": 4,
   "id": "26f77ebe",
   "metadata": {},
   "outputs": [],
   "source": [
    "# This Python 3 environment comes with many helpful analytics libraries installed\n",
    "# For example, here's several helpful packages to load in\n",
    "import numpy as np   # linear algebra\n",
    "import matplotlib.pyplot as plt # data visualization\n",
    "import pandas as pd  # data processing, CSV file I/O (e.g. pd.read_csv)\n",
    "import seaborn as sns"
   ]
  },
  {
   "cell_type": "markdown",
   "id": "31c8220d",
   "metadata": {},
   "source": [
    "### Loading the dataset \n",
    "#### For implementation we will be using house prediction dataset . The dataset can be found [here](https://github.com/vrinda01go/Hellofoss/blob/main/Room_price_data.csv)"
   ]
  },
  {
   "cell_type": "code",
   "execution_count": 26,
   "id": "1c5d873a",
   "metadata": {},
   "outputs": [],
   "source": [
    "df = pd.read_csv(\"Hostel_Linear-Dataset.csv\")  #import text file "
   ]
  },
  {
   "cell_type": "code",
   "execution_count": 27,
   "id": "1ca9aba0",
   "metadata": {},
   "outputs": [
    {
     "data": {
      "text/html": [
       "<div>\n",
       "<style scoped>\n",
       "    .dataframe tbody tr th:only-of-type {\n",
       "        vertical-align: middle;\n",
       "    }\n",
       "\n",
       "    .dataframe tbody tr th {\n",
       "        vertical-align: top;\n",
       "    }\n",
       "\n",
       "    .dataframe thead th {\n",
       "        text-align: right;\n",
       "    }\n",
       "</style>\n",
       "<table border=\"1\" class=\"dataframe\">\n",
       "  <thead>\n",
       "    <tr style=\"text-align: right;\">\n",
       "      <th></th>\n",
       "      <th>Price</th>\n",
       "      <th>Hostel No.</th>\n",
       "      <th>Occupancy</th>\n",
       "      <th>Room Size</th>\n",
       "      <th>Floor</th>\n",
       "    </tr>\n",
       "  </thead>\n",
       "  <tbody>\n",
       "    <tr>\n",
       "      <th>0</th>\n",
       "      <td>2540.0</td>\n",
       "      <td>3</td>\n",
       "      <td>1</td>\n",
       "      <td>686</td>\n",
       "      <td>8</td>\n",
       "    </tr>\n",
       "    <tr>\n",
       "      <th>1</th>\n",
       "      <td>2900.0</td>\n",
       "      <td>3</td>\n",
       "      <td>2</td>\n",
       "      <td>966</td>\n",
       "      <td>5</td>\n",
       "    </tr>\n",
       "    <tr>\n",
       "      <th>2</th>\n",
       "      <td>NaN</td>\n",
       "      <td>3</td>\n",
       "      <td>1</td>\n",
       "      <td>788</td>\n",
       "      <td>8</td>\n",
       "    </tr>\n",
       "    <tr>\n",
       "      <th>3</th>\n",
       "      <td>2362.0</td>\n",
       "      <td>3</td>\n",
       "      <td>2</td>\n",
       "      <td>924</td>\n",
       "      <td>2</td>\n",
       "    </tr>\n",
       "    <tr>\n",
       "      <th>4</th>\n",
       "      <td>NaN</td>\n",
       "      <td>3</td>\n",
       "      <td>2</td>\n",
       "      <td>1098</td>\n",
       "      <td>5</td>\n",
       "    </tr>\n",
       "  </tbody>\n",
       "</table>\n",
       "</div>"
      ],
      "text/plain": [
       "    Price  Hostel No.  Occupancy  Room Size  Floor\n",
       "0  2540.0           3          1        686      8\n",
       "1  2900.0           3          2        966      5\n",
       "2     NaN           3          1        788      8\n",
       "3  2362.0           3          2        924      2\n",
       "4     NaN           3          2       1098      5"
      ]
     },
     "execution_count": 27,
     "metadata": {},
     "output_type": "execute_result"
    }
   ],
   "source": [
    "df.head()"
   ]
  },
  {
   "cell_type": "markdown",
   "id": "af08f245",
   "metadata": {},
   "source": [
    "# Visualizing and Cleaning the data\n",
    "\n",
    "We will now be removing the nan values and identical values from the dataset\n",
    "\n",
    "For seeing if there are nan values in the dataset we will use the isna() function and then to remove them we will use the dropna() function. We will need to set additional parameters like rows and columns in the dropna function depending on the number of nan values present for each column\n",
    "\n",
    "Using the sum() function with isna() function we can get to know the number of missing values in each column"
   ]
  },
  {
   "cell_type": "code",
   "execution_count": 28,
   "id": "2fd4babb",
   "metadata": {},
   "outputs": [
    {
     "data": {
      "text/plain": [
       "Price         1531\n",
       "Hostel No.       0\n",
       "Occupancy        0\n",
       "Room Size        0\n",
       "Floor            0\n",
       "dtype: int64"
      ]
     },
     "execution_count": 28,
     "metadata": {},
     "output_type": "execute_result"
    }
   ],
   "source": [
    "df.isnull().sum()"
   ]
  },
  {
   "cell_type": "markdown",
   "id": "83ef03c3",
   "metadata": {},
   "source": [
    "After this we will proceed to remove the nan values \n",
    "\n",
    "Since there are not many nan values in the column 'Price' as compared to the number of rows we will remove the rows which have nan values. \n",
    "\n",
    "Reseting the index after removing the nan values and dropping the old index will also be important"
   ]
  },
  {
   "cell_type": "code",
   "execution_count": 65,
   "id": "b65e4503",
   "metadata": {},
   "outputs": [
    {
     "data": {
      "text/html": [
       "<div>\n",
       "<style scoped>\n",
       "    .dataframe tbody tr th:only-of-type {\n",
       "        vertical-align: middle;\n",
       "    }\n",
       "\n",
       "    .dataframe tbody tr th {\n",
       "        vertical-align: top;\n",
       "    }\n",
       "\n",
       "    .dataframe thead th {\n",
       "        text-align: right;\n",
       "    }\n",
       "</style>\n",
       "<table border=\"1\" class=\"dataframe\">\n",
       "  <thead>\n",
       "    <tr style=\"text-align: right;\">\n",
       "      <th></th>\n",
       "      <th>Price</th>\n",
       "      <th>Hostel No.</th>\n",
       "      <th>Occupancy</th>\n",
       "      <th>Room Size</th>\n",
       "      <th>Floor</th>\n",
       "    </tr>\n",
       "  </thead>\n",
       "  <tbody>\n",
       "    <tr>\n",
       "      <th>0</th>\n",
       "      <td>2540.0</td>\n",
       "      <td>3</td>\n",
       "      <td>1</td>\n",
       "      <td>686</td>\n",
       "      <td>8</td>\n",
       "    </tr>\n",
       "    <tr>\n",
       "      <th>1</th>\n",
       "      <td>2900.0</td>\n",
       "      <td>3</td>\n",
       "      <td>2</td>\n",
       "      <td>966</td>\n",
       "      <td>5</td>\n",
       "    </tr>\n",
       "    <tr>\n",
       "      <th>2</th>\n",
       "      <td>2362.0</td>\n",
       "      <td>3</td>\n",
       "      <td>2</td>\n",
       "      <td>924</td>\n",
       "      <td>2</td>\n",
       "    </tr>\n",
       "    <tr>\n",
       "      <th>3</th>\n",
       "      <td>1432.0</td>\n",
       "      <td>2</td>\n",
       "      <td>1</td>\n",
       "      <td>706</td>\n",
       "      <td>3</td>\n",
       "    </tr>\n",
       "    <tr>\n",
       "      <th>4</th>\n",
       "      <td>1702.0</td>\n",
       "      <td>2</td>\n",
       "      <td>2</td>\n",
       "      <td>1038</td>\n",
       "      <td>3</td>\n",
       "    </tr>\n",
       "    <tr>\n",
       "      <th>...</th>\n",
       "      <td>...</td>\n",
       "      <td>...</td>\n",
       "      <td>...</td>\n",
       "      <td>...</td>\n",
       "      <td>...</td>\n",
       "    </tr>\n",
       "    <tr>\n",
       "      <th>4812</th>\n",
       "      <td>1624.0</td>\n",
       "      <td>2</td>\n",
       "      <td>1</td>\n",
       "      <td>674</td>\n",
       "      <td>3</td>\n",
       "    </tr>\n",
       "    <tr>\n",
       "      <th>4813</th>\n",
       "      <td>1470.0</td>\n",
       "      <td>2</td>\n",
       "      <td>1</td>\n",
       "      <td>626</td>\n",
       "      <td>3</td>\n",
       "    </tr>\n",
       "    <tr>\n",
       "      <th>4814</th>\n",
       "      <td>1020.0</td>\n",
       "      <td>3</td>\n",
       "      <td>2</td>\n",
       "      <td>1006</td>\n",
       "      <td>3</td>\n",
       "    </tr>\n",
       "    <tr>\n",
       "      <th>4815</th>\n",
       "      <td>2400.0</td>\n",
       "      <td>2</td>\n",
       "      <td>2</td>\n",
       "      <td>938</td>\n",
       "      <td>1</td>\n",
       "    </tr>\n",
       "    <tr>\n",
       "      <th>4816</th>\n",
       "      <td>950.0</td>\n",
       "      <td>3</td>\n",
       "      <td>2</td>\n",
       "      <td>1053</td>\n",
       "      <td>2</td>\n",
       "    </tr>\n",
       "  </tbody>\n",
       "</table>\n",
       "<p>4817 rows × 5 columns</p>\n",
       "</div>"
      ],
      "text/plain": [
       "       Price  Hostel No.  Occupancy  Room Size  Floor\n",
       "0     2540.0           3          1        686      8\n",
       "1     2900.0           3          2        966      5\n",
       "2     2362.0           3          2        924      2\n",
       "3     1432.0           2          1        706      3\n",
       "4     1702.0           2          2       1038      3\n",
       "...      ...         ...        ...        ...    ...\n",
       "4812  1624.0           2          1        674      3\n",
       "4813  1470.0           2          1        626      3\n",
       "4814  1020.0           3          2       1006      3\n",
       "4815  2400.0           2          2        938      1\n",
       "4816   950.0           3          2       1053      2\n",
       "\n",
       "[4817 rows x 5 columns]"
      ]
     },
     "execution_count": 65,
     "metadata": {},
     "output_type": "execute_result"
    }
   ],
   "source": [
    "df=df.dropna().reset_index()\n",
    "df=df[['Price','Hostel No.','Occupancy','Room Size','Floor']]\n",
    "df"
   ]
  },
  {
   "cell_type": "markdown",
   "id": "40784889",
   "metadata": {},
   "source": [
    "Now we can use the drop_duplicate function to remove the duplicate values\n",
    "\n",
    "This function has a parameter calle 'keep' where we specifiy to drop and which value to keep\n",
    "\n",
    "For this excercise we will keep the first values and drop the rest of the duplicates"
   ]
  },
  {
   "cell_type": "code",
   "execution_count": 66,
   "id": "75fa3dc8",
   "metadata": {},
   "outputs": [
    {
     "data": {
      "text/html": [
       "<div>\n",
       "<style scoped>\n",
       "    .dataframe tbody tr th:only-of-type {\n",
       "        vertical-align: middle;\n",
       "    }\n",
       "\n",
       "    .dataframe tbody tr th {\n",
       "        vertical-align: top;\n",
       "    }\n",
       "\n",
       "    .dataframe thead th {\n",
       "        text-align: right;\n",
       "    }\n",
       "</style>\n",
       "<table border=\"1\" class=\"dataframe\">\n",
       "  <thead>\n",
       "    <tr style=\"text-align: right;\">\n",
       "      <th></th>\n",
       "      <th>Price</th>\n",
       "      <th>Hostel No.</th>\n",
       "      <th>Occupancy</th>\n",
       "      <th>Room Size</th>\n",
       "      <th>Floor</th>\n",
       "    </tr>\n",
       "  </thead>\n",
       "  <tbody>\n",
       "    <tr>\n",
       "      <th>0</th>\n",
       "      <td>2540.0</td>\n",
       "      <td>3</td>\n",
       "      <td>1</td>\n",
       "      <td>686</td>\n",
       "      <td>8</td>\n",
       "    </tr>\n",
       "    <tr>\n",
       "      <th>1</th>\n",
       "      <td>2900.0</td>\n",
       "      <td>3</td>\n",
       "      <td>2</td>\n",
       "      <td>966</td>\n",
       "      <td>5</td>\n",
       "    </tr>\n",
       "    <tr>\n",
       "      <th>2</th>\n",
       "      <td>2362.0</td>\n",
       "      <td>3</td>\n",
       "      <td>2</td>\n",
       "      <td>924</td>\n",
       "      <td>2</td>\n",
       "    </tr>\n",
       "    <tr>\n",
       "      <th>3</th>\n",
       "      <td>1432.0</td>\n",
       "      <td>2</td>\n",
       "      <td>1</td>\n",
       "      <td>706</td>\n",
       "      <td>3</td>\n",
       "    </tr>\n",
       "    <tr>\n",
       "      <th>4</th>\n",
       "      <td>1702.0</td>\n",
       "      <td>2</td>\n",
       "      <td>2</td>\n",
       "      <td>1038</td>\n",
       "      <td>3</td>\n",
       "    </tr>\n",
       "    <tr>\n",
       "      <th>...</th>\n",
       "      <td>...</td>\n",
       "      <td>...</td>\n",
       "      <td>...</td>\n",
       "      <td>...</td>\n",
       "      <td>...</td>\n",
       "    </tr>\n",
       "    <tr>\n",
       "      <th>4812</th>\n",
       "      <td>1624.0</td>\n",
       "      <td>2</td>\n",
       "      <td>1</td>\n",
       "      <td>674</td>\n",
       "      <td>3</td>\n",
       "    </tr>\n",
       "    <tr>\n",
       "      <th>4813</th>\n",
       "      <td>1470.0</td>\n",
       "      <td>2</td>\n",
       "      <td>1</td>\n",
       "      <td>626</td>\n",
       "      <td>3</td>\n",
       "    </tr>\n",
       "    <tr>\n",
       "      <th>4814</th>\n",
       "      <td>1020.0</td>\n",
       "      <td>3</td>\n",
       "      <td>2</td>\n",
       "      <td>1006</td>\n",
       "      <td>3</td>\n",
       "    </tr>\n",
       "    <tr>\n",
       "      <th>4815</th>\n",
       "      <td>2400.0</td>\n",
       "      <td>2</td>\n",
       "      <td>2</td>\n",
       "      <td>938</td>\n",
       "      <td>1</td>\n",
       "    </tr>\n",
       "    <tr>\n",
       "      <th>4816</th>\n",
       "      <td>950.0</td>\n",
       "      <td>3</td>\n",
       "      <td>2</td>\n",
       "      <td>1053</td>\n",
       "      <td>2</td>\n",
       "    </tr>\n",
       "  </tbody>\n",
       "</table>\n",
       "<p>4815 rows × 5 columns</p>\n",
       "</div>"
      ],
      "text/plain": [
       "       Price  Hostel No.  Occupancy  Room Size  Floor\n",
       "0     2540.0           3          1        686      8\n",
       "1     2900.0           3          2        966      5\n",
       "2     2362.0           3          2        924      2\n",
       "3     1432.0           2          1        706      3\n",
       "4     1702.0           2          2       1038      3\n",
       "...      ...         ...        ...        ...    ...\n",
       "4812  1624.0           2          1        674      3\n",
       "4813  1470.0           2          1        626      3\n",
       "4814  1020.0           3          2       1006      3\n",
       "4815  2400.0           2          2        938      1\n",
       "4816   950.0           3          2       1053      2\n",
       "\n",
       "[4815 rows x 5 columns]"
      ]
     },
     "execution_count": 66,
     "metadata": {},
     "output_type": "execute_result"
    }
   ],
   "source": [
    "df=df.drop_duplicates()\n",
    "df"
   ]
  },
  {
   "cell_type": "markdown",
   "id": "a007a33f",
   "metadata": {},
   "source": [
    "For visualizing the data we will first start with looking at the distribution of different columns to see if there are enough number for each category in every column and dropping them if the data is biased for one category more than the other"
   ]
  },
  {
   "cell_type": "code",
   "execution_count": 31,
   "id": "b325df62",
   "metadata": {},
   "outputs": [
    {
     "data": {
      "image/png": "[encoded data removed]",
      "text/plain": [
       "<Figure size 432x288 with 1 Axes>"
      ]
     },
     "metadata": {
      "needs_background": "light"
     },
     "output_type": "display_data"
    },
    {
     "data": {
      "image/png": "[encoded data removed]",
      "text/plain": [
       "<Figure size 432x288 with 1 Axes>"
      ]
     },
     "metadata": {
      "needs_background": "light"
     },
     "output_type": "display_data"
    },
    {
     "data": {
      "image/png": "[encoded data removed]",
      "text/plain": [
       "<Figure size 432x288 with 1 Axes>"
      ]
     },
     "metadata": {
      "needs_background": "light"
     },
     "output_type": "display_data"
    },
    {
     "data": {
      "image/png": "[encoded data removed]",
      "text/plain": [
       "<Figure size 432x288 with 1 Axes>"
      ]
     },
     "metadata": {
      "needs_background": "light"
     },
     "output_type": "display_data"
    },
    {
     "data": {
      "image/png": "[encoded data removed]",
      "text/plain": [
       "<Figure size 432x288 with 1 Axes>"
      ]
     },
     "metadata": {
      "needs_background": "light"
     },
     "output_type": "display_data"
    },
    {
     "data": {
      "image/png": "[encoded data removed]",
      "text/plain": [
       "<Figure size 432x288 with 1 Axes>"
      ]
     },
     "metadata": {
      "needs_background": "light"
     },
     "output_type": "display_data"
    }
   ],
   "source": [
    "columns = df.columns\n",
    "for column in columns:\n",
    "    df.hist(column)"
   ]
  },
  {
   "cell_type": "markdown",
   "id": "9811a731",
   "metadata": {},
   "source": [
    "We can clearly notice that for the Occupancy column the (occupancy) = 4 has a really low set of data points as compared to others. Hence we can proceed in dropping those rows where the occupancy is 4"
   ]
  },
  {
   "cell_type": "code",
   "execution_count": 35,
   "id": "825783c0",
   "metadata": {},
   "outputs": [],
   "source": [
    "df.drop(df[df[\"Occupancy\"]==4].index,inplace=True)"
   ]
  },
  {
   "cell_type": "code",
   "execution_count": 67,
   "id": "30c64310",
   "metadata": {},
   "outputs": [
    {
     "data": {
      "text/html": [
       "<div>\n",
       "<style scoped>\n",
       "    .dataframe tbody tr th:only-of-type {\n",
       "        vertical-align: middle;\n",
       "    }\n",
       "\n",
       "    .dataframe tbody tr th {\n",
       "        vertical-align: top;\n",
       "    }\n",
       "\n",
       "    .dataframe thead th {\n",
       "        text-align: right;\n",
       "    }\n",
       "</style>\n",
       "<table border=\"1\" class=\"dataframe\">\n",
       "  <thead>\n",
       "    <tr style=\"text-align: right;\">\n",
       "      <th></th>\n",
       "      <th>Price</th>\n",
       "      <th>Hostel No.</th>\n",
       "      <th>Occupancy</th>\n",
       "      <th>Room Size</th>\n",
       "      <th>Floor</th>\n",
       "    </tr>\n",
       "  </thead>\n",
       "  <tbody>\n",
       "    <tr>\n",
       "      <th>0</th>\n",
       "      <td>2540.0</td>\n",
       "      <td>3</td>\n",
       "      <td>1</td>\n",
       "      <td>686</td>\n",
       "      <td>8</td>\n",
       "    </tr>\n",
       "    <tr>\n",
       "      <th>1</th>\n",
       "      <td>2900.0</td>\n",
       "      <td>3</td>\n",
       "      <td>2</td>\n",
       "      <td>966</td>\n",
       "      <td>5</td>\n",
       "    </tr>\n",
       "    <tr>\n",
       "      <th>2</th>\n",
       "      <td>2362.0</td>\n",
       "      <td>3</td>\n",
       "      <td>2</td>\n",
       "      <td>924</td>\n",
       "      <td>2</td>\n",
       "    </tr>\n",
       "    <tr>\n",
       "      <th>3</th>\n",
       "      <td>1432.0</td>\n",
       "      <td>2</td>\n",
       "      <td>1</td>\n",
       "      <td>706</td>\n",
       "      <td>3</td>\n",
       "    </tr>\n",
       "    <tr>\n",
       "      <th>4</th>\n",
       "      <td>1702.0</td>\n",
       "      <td>2</td>\n",
       "      <td>2</td>\n",
       "      <td>1038</td>\n",
       "      <td>3</td>\n",
       "    </tr>\n",
       "  </tbody>\n",
       "</table>\n",
       "</div>"
      ],
      "text/plain": [
       "    Price  Hostel No.  Occupancy  Room Size  Floor\n",
       "0  2540.0           3          1        686      8\n",
       "1  2900.0           3          2        966      5\n",
       "2  2362.0           3          2        924      2\n",
       "3  1432.0           2          1        706      3\n",
       "4  1702.0           2          2       1038      3"
      ]
     },
     "execution_count": 67,
     "metadata": {},
     "output_type": "execute_result"
    }
   ],
   "source": [
    "df.head()"
   ]
  },
  {
   "cell_type": "markdown",
   "id": "f333875b",
   "metadata": {},
   "source": [
    "We will now write the columns between categorical and numerical\n",
    "\n",
    "categorical = Hostel No, occupancy, floor\n",
    "\n",
    "Numerical = price, occupancy, roomsize, floor, hostel No.\n",
    "\n",
    "Remember that we can treat Hostel Number and occupancy as numerical or categorical. For this notebook we will treat them as categorical for data visualization and numerical for the regression"
   ]
  },
  {
   "cell_type": "markdown",
   "id": "0f34ca6a",
   "metadata": {},
   "source": [
    "We will also plot the scatter plots and the correlation map to analyse the relation ships between different numerical columns"
   ]
  },
  {
   "cell_type": "code",
   "execution_count": 38,
   "id": "f4a3ab6e",
   "metadata": {
    "scrolled": false
   },
   "outputs": [],
   "source": [
    "categorical = ['Hostel No.', 'Occupancy', 'Floor']\n",
    "numerical = [ 'Price', 'Room Size']"
   ]
  },
  {
   "cell_type": "code",
   "execution_count": 68,
   "id": "df2b588a",
   "metadata": {},
   "outputs": [
    {
     "data": {
      "image/png": "[encoded data removed]",
      "text/plain": [
       "<Figure size 432x288 with 1 Axes>"
      ]
     },
     "metadata": {
      "needs_background": "light"
     },
     "output_type": "display_data"
    }
   ],
   "source": [
    "for column1 in numerical:\n",
    "    for column2 in numerical:\n",
    "        if(column1 != column2):\n",
    "            sns.scatterplot(x=df[column1],y=df[column2])"
   ]
  },
  {
   "cell_type": "markdown",
   "id": "625b89a8",
   "metadata": {},
   "source": [
    "We can notice that there are no linear relation present between the numerical columns. Hence no need to drop anything"
   ]
  },
  {
   "cell_type": "markdown",
   "id": "8a7f95fa",
   "metadata": {},
   "source": [
    "Now we will plot box plots of categorical and numerical columns to get more information about the number of outliers and the distrubtion."
   ]
  },
  {
   "cell_type": "code",
   "execution_count": 69,
   "id": "e73f0769",
   "metadata": {},
   "outputs": [
    {
     "data": {
      "image/png": "[encoded data removed]",
      "text/plain": [
       "<Figure size 432x288 with 1 Axes>"
      ]
     },
     "metadata": {
      "needs_background": "light"
     },
     "output_type": "display_data"
    }
   ],
   "source": [
    "for c in categorical:\n",
    "    for n in numerical:\n",
    "        df.boxplot(column=[c,n])"
   ]
  },
  {
   "cell_type": "markdown",
   "id": "a74d69fd",
   "metadata": {},
   "source": [
    "Now that we have analysed our data we can proceed to normalixing our data and regression"
   ]
  },
  {
   "cell_type": "markdown",
   "id": "77d8c6ba",
   "metadata": {},
   "source": [
    "### Importing useful libraries \n"
   ]
  },
  {
   "cell_type": "code",
   "execution_count": 43,
   "id": "fffac537",
   "metadata": {},
   "outputs": [],
   "source": [
    "# This Python 3 environment comes with many helpful analytics libraries installed\n",
    "# For example, here's several helpful packages to load in\n",
    "import numpy as np   # linear algebra\n",
    "import matplotlib.pyplot as plt # data visualization\n",
    "import pandas as pd  # data processing, CSV file I/O (e.g. pd.read_csv)"
   ]
  },
  {
   "cell_type": "markdown",
   "id": "04cd7e4e",
   "metadata": {},
   "source": [
    "### Loading the dataset \n",
    "#### For implementation we will be using house prediction dataset . The dataset can be found [here](https://github.com/vrinda01go/Hellofoss/blob/main/Insti_data.csv)"
   ]
  },
  {
   "cell_type": "code",
   "execution_count": 190,
   "id": "4ac8e74b",
   "metadata": {},
   "outputs": [
    {
     "name": "stderr",
     "output_type": "stream",
     "text": [
      "/var/folders/bh/j3nhmrx97nx0q5lw7s_6w2tw0000gn/T/ipykernel_28064/176543688.py:1: SettingWithCopyWarning: \n",
      "A value is trying to be set on a copy of a slice from a DataFrame.\n",
      "Try using .loc[row_indexer,col_indexer] = value instead\n",
      "\n",
      "See the caveats in the documentation: https://pandas.pydata.org/pandas-docs/stable/user_guide/indexing.html#returning-a-view-versus-a-copy\n",
      "  df['Room Size']=df['Room Size']/max(df['Room Size']) #To normalize room size data\n"
     ]
    },
    {
     "data": {
      "text/plain": [
       "array([[2.54000000e+03, 3.00000000e+00, 1.00000000e+00, 4.90350250e-01,\n",
       "        8.00000000e+00],\n",
       "       [2.90000000e+03, 3.00000000e+00, 2.00000000e+00, 6.90493209e-01,\n",
       "        5.00000000e+00],\n",
       "       [2.36200000e+03, 3.00000000e+00, 2.00000000e+00, 6.60471766e-01,\n",
       "        2.00000000e+00],\n",
       "       ...,\n",
       "       [1.02000000e+03, 3.00000000e+00, 2.00000000e+00, 7.19085061e-01,\n",
       "        3.00000000e+00],\n",
       "       [2.40000000e+03, 2.00000000e+00, 2.00000000e+00, 6.70478914e-01,\n",
       "        1.00000000e+00],\n",
       "       [9.50000000e+02, 3.00000000e+00, 2.00000000e+00, 7.52680486e-01,\n",
       "        2.00000000e+00]])"
      ]
     },
     "execution_count": 190,
     "metadata": {},
     "output_type": "execute_result"
    }
   ],
   "source": [
    "df['Room Size']=df['Room Size']/max(df['Room Size']) #To normalize room size data\n",
    "data = np.array(df, dtype=float)\n",
    "data"
   ]
  },
  {
   "cell_type": "markdown",
   "id": "627a5a3a",
   "metadata": {},
   "source": [
    "#### Since our dataset has four features i.e Hostel No. , Occupancy, Room Size and Floor ,our hypothesis function becomes\n",
    "### hθ(x) = θ0 + θ1x1 + θ2x2 +θ3x3 + θ4x4\n",
    "#### where x1 ,x2,x3 and x4 are the two features (i.e. size of house and number of rooms)"
   ]
  },
  {
   "cell_type": "markdown",
   "id": "58fdf0fe",
   "metadata": {},
   "source": [
    "### So Your task is to define hypothesis function having 4 features and a corresponding cost function "
   ]
  },
  {
   "cell_type": "code",
   "execution_count": 45,
   "id": "34dc5643",
   "metadata": {},
   "outputs": [],
   "source": [
    "def hypotheses_fn(theta,X):\n",
    "    return X.dot(theta)"
   ]
  },
  {
   "cell_type": "code",
   "execution_count": 146,
   "id": "6fae141b",
   "metadata": {},
   "outputs": [],
   "source": [
    "def cost(theta,X,Y):\n",
    "    pred=hypotheses_fn(theta,X)\n",
    "    return (1/(2*len(Y))) * np.sum(np.square(pred-Y))"
   ]
  },
  {
   "cell_type": "markdown",
   "id": "178eb11f",
   "metadata": {},
   "source": [
    "### Gradient Descent \n",
    "#### So we have our hypothesis function and we have a way of measuring how well it fits into the data. Now we need to estimate the parameters in the hypothesis function. That's where gradient descent comes in.\n",
    "### Your next task is to define gradient descent function having some specific value of learning rate and number of epochs.\n",
    "#### Note that learning rate should be neither very high nor very low .Why?\n",
    "#### Check out exact reason [here](https://towardsdatascience.com/understanding-learning-rates-and-how-it-improves-performance-in-deep-learning-d0d4059c1c10)\n",
    "\n"
   ]
  },
  {
   "cell_type": "code",
   "execution_count": 147,
   "id": "167b5bdc",
   "metadata": {},
   "outputs": [],
   "source": [
    "def gradient_descent(theta,X,Y,learning_rate,iterations):\n",
    "    len_y=len(Y)\n",
    "    costs=[]\n",
    "    for i in range(iterations):\n",
    "        pred=hypotheses_fn(theta,X)\n",
    "        theta-=(1/len_y)*learning_rate*(X.T.dot((pred-Y)))\n",
    "        costs.append(cost(theta,X,Y))\n",
    "        \n",
    "    plt.plot(costs)\n",
    "    plt.title(\"Costs changing with each epoch\")\n",
    "    plt.xlabel(\"Epoch\")\n",
    "    plt.ylabel(\"Cost\")\n",
    "    plt.show()\n",
    "        \n",
    "    return theta"
   ]
  },
  {
   "cell_type": "markdown",
   "id": "724e407a",
   "metadata": {},
   "source": [
    "### Now we want to visualize how our cost function varies with number of epochs .So your next task is to plot graph of updated costs vs number of epochs "
   ]
  },
  {
   "cell_type": "markdown",
   "id": "e82f6ebf",
   "metadata": {},
   "source": [
    "#### After plotting above graph you will notice that your cost function decreases with epochs.\n",
    "#### Perfect! This is all what we wanted to seek by doing linear regression. \n",
    "\n",
    "#### Now it's time to test our model on some test data. \n",
    "\n",
    "#### For this you will define a test function that will take as input Hostel No. , Occupancy, Room Size , Floor and the final theta vector that was returned by our linear regression model and will give us the price of the house. Compute it for any set of features given and final value of theta as given by gradient descent function"
   ]
  },
  {
   "cell_type": "code",
   "execution_count": 188,
   "id": "c522bca3",
   "metadata": {},
   "outputs": [
    {
     "data": {
      "image/png": "[encoded data removed]",
      "text/plain": [
       "<Figure size 432x288 with 1 Axes>"
      ]
     },
     "metadata": {
      "needs_background": "light"
     },
     "output_type": "display_data"
    }
   ],
   "source": [
    "X=data[:,1:]\n",
    "X=np.c_[np.ones((len(X),1)),X]\n",
    "Y=data[:,0]\n",
    "theta=np.zeros(5)\n",
    "theta_ideal=gradient_descent(theta,X,Y,0.001,200)"
   ]
  },
  {
   "cell_type": "markdown",
   "id": "947f35b1",
   "metadata": {},
   "source": [
    "#### Now since we have defined all required functions , we can call functions one by one and get our final results .\n",
    "#### Your final task is to use all functions defined above and predict the price of room for some input combinations to check how well your model works."
   ]
  },
  {
   "cell_type": "markdown",
   "id": "06e54ef5",
   "metadata": {},
   "source": [
    "#### You can try playing with different values of alpha and epochs and see which combination gives most accurate results but do lookout for overfitting \n"
   ]
  },
  {
   "cell_type": "code",
   "execution_count": 189,
   "id": "3fc631fd",
   "metadata": {},
   "outputs": [
    {
     "data": {
      "text/html": [
       "<div>\n",
       "<style scoped>\n",
       "    .dataframe tbody tr th:only-of-type {\n",
       "        vertical-align: middle;\n",
       "    }\n",
       "\n",
       "    .dataframe tbody tr th {\n",
       "        vertical-align: top;\n",
       "    }\n",
       "\n",
       "    .dataframe thead th {\n",
       "        text-align: right;\n",
       "    }\n",
       "</style>\n",
       "<table border=\"1\" class=\"dataframe\">\n",
       "  <thead>\n",
       "    <tr style=\"text-align: right;\">\n",
       "      <th></th>\n",
       "      <th>Predicted values</th>\n",
       "      <th>Actual values</th>\n",
       "    </tr>\n",
       "  </thead>\n",
       "  <tbody>\n",
       "    <tr>\n",
       "      <th>0</th>\n",
       "      <td>3457.990337</td>\n",
       "      <td>2540.0</td>\n",
       "    </tr>\n",
       "    <tr>\n",
       "      <th>1</th>\n",
       "      <td>2555.206555</td>\n",
       "      <td>2900.0</td>\n",
       "    </tr>\n",
       "    <tr>\n",
       "      <th>2</th>\n",
       "      <td>1522.488370</td>\n",
       "      <td>2362.0</td>\n",
       "    </tr>\n",
       "    <tr>\n",
       "      <th>3</th>\n",
       "      <td>1578.342395</td>\n",
       "      <td>1432.0</td>\n",
       "    </tr>\n",
       "    <tr>\n",
       "      <th>4</th>\n",
       "      <td>1708.619272</td>\n",
       "      <td>1702.0</td>\n",
       "    </tr>\n",
       "    <tr>\n",
       "      <th>...</th>\n",
       "      <td>...</td>\n",
       "      <td>...</td>\n",
       "    </tr>\n",
       "    <tr>\n",
       "      <th>4810</th>\n",
       "      <td>1577.246480</td>\n",
       "      <td>1624.0</td>\n",
       "    </tr>\n",
       "    <tr>\n",
       "      <th>4811</th>\n",
       "      <td>1575.602607</td>\n",
       "      <td>1470.0</td>\n",
       "    </tr>\n",
       "    <tr>\n",
       "      <th>4812</th>\n",
       "      <td>1869.056585</td>\n",
       "      <td>1020.0</td>\n",
       "    </tr>\n",
       "    <tr>\n",
       "      <th>4813</th>\n",
       "      <td>1017.674673</td>\n",
       "      <td>2400.0</td>\n",
       "    </tr>\n",
       "    <tr>\n",
       "      <th>4814</th>\n",
       "      <td>1526.906278</td>\n",
       "      <td>950.0</td>\n",
       "    </tr>\n",
       "  </tbody>\n",
       "</table>\n",
       "<p>4815 rows × 2 columns</p>\n",
       "</div>"
      ],
      "text/plain": [
       "      Predicted values  Actual values\n",
       "0          3457.990337         2540.0\n",
       "1          2555.206555         2900.0\n",
       "2          1522.488370         2362.0\n",
       "3          1578.342395         1432.0\n",
       "4          1708.619272         1702.0\n",
       "...                ...            ...\n",
       "4810       1577.246480         1624.0\n",
       "4811       1575.602607         1470.0\n",
       "4812       1869.056585         1020.0\n",
       "4813       1017.674673         2400.0\n",
       "4814       1526.906278          950.0\n",
       "\n",
       "[4815 rows x 2 columns]"
      ]
     },
     "metadata": {},
     "output_type": "display_data"
    }
   ],
   "source": [
    "def test(X,Y):\n",
    "    display(pd.DataFrame({\"Predicted values\":X.dot(theta_ideal),\"Actual values\":Y}))\n",
    "\n",
    "test(X,Y)"
   ]
  }
 ],
 "metadata": {
  "kernelspec": {
   "display_name": "Python 3 (ipykernel)",
   "language": "python",
   "name": "python3"
  },
  "language_info": {
   "codemirror_mode": {
    "name": "ipython",
    "version": 3
   },
   "file_extension": ".py",
   "mimetype": "text/x-python",
   "name": "python",
   "nbconvert_exporter": "python",
   "pygments_lexer": "ipython3",
   "version": "3.9.6"
  }
 },
 "nbformat": 4,
 "nbformat_minor": 5
}
